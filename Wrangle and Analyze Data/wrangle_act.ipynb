{
 "cells": [
  {
   "cell_type": "markdown",
   "metadata": {},
   "source": [
    "# Project: Wrangle and Analyze Data"
   ]
  },
  {
   "cell_type": "markdown",
   "metadata": {},
   "source": [
    "## Preparation"
   ]
  },
  {
   "cell_type": "code",
   "execution_count": 1,
   "metadata": {},
   "outputs": [],
   "source": [
    "import requests\n",
    "import pandas as pd\n",
    "import tweepy\n",
    "import time\n",
    "import sys\n",
    "import json\n",
    "import matplotlib.pyplot as plt\n",
    "%matplotlib inline\n",
    "\n",
    "\n",
    "# setting up tweepy\n",
    "consumer_key = 'Spa6JuZzzfaKj4cmC0cn5SOEW'\n",
    "consumer_secret = 'VQw5HarkVT2uRBiIg8uKWd6jZdT3lhItzx2Lp0TwKCmWadZ35s'\n",
    "access_token = '1078358846576476160-5cKobEvDybSd61B7KWQvxBxIDfBd60'\n",
    "access_secret = 'zE5InMhoB6mc4ErZYGQbCf1oj26u5UhlAP8RoisB1I3OD'\n",
    "\n",
    "auth = tweepy.OAuthHandler(consumer_key, consumer_secret)\n",
    "auth.set_access_token(access_token, access_secret)\n",
    "\n",
    "api = tweepy.API(auth, wait_on_rate_limit=True, wait_on_rate_limit_notify=True)"
   ]
  },
  {
   "cell_type": "markdown",
   "metadata": {},
   "source": [
    "## Gather"
   ]
  },
  {
   "cell_type": "code",
   "execution_count": 2,
   "metadata": {},
   "outputs": [],
   "source": [
    "# reading the provided file 'twitter-archive-enhanced.csv' into a dataframe\n",
    "df_archive = pd.read_csv('twitter-archive-enhanced.csv')"
   ]
  },
  {
   "cell_type": "code",
   "execution_count": 3,
   "metadata": {},
   "outputs": [],
   "source": [
    "# downloading the file: image-predictions.tsv\n",
    "r = requests.get('https://d17h27t6h515a5.cloudfront.net/topher/2017/August/599fd2ad_image-predictions/image-predictions.tsv').content\n",
    "with open('image-predictions.tsv', 'w') as file:\n",
    "    file.write(r.decode('utf-8'))\n"
   ]
  },
  {
   "cell_type": "code",
   "execution_count": 4,
   "metadata": {},
   "outputs": [],
   "source": [
    "# reading the downloaded file into a dataframe\n",
    "df_image = pd.read_csv('image-predictions.tsv', sep='\\t')"
   ]
  },
  {
   "cell_type": "code",
   "execution_count": 5,
   "metadata": {},
   "outputs": [
    {
     "name": "stdout",
     "output_type": "stream",
     "text": [
      "Error for 680055455951884288\n",
      "Rate limit reached. Sleeping for: 652\n",
      "Error for 754011816964026368\n",
      "Error for 802247111496568832\n",
      "Rate limit reached. Sleeping for: 650\n",
      "Error for 837012587749474308\n",
      "Error for 842892208864923648\n",
      "Error for 861769973181624320\n",
      "Error for 873697596434513921\n",
      "Error for 888202515573088257\n"
     ]
    }
   ],
   "source": [
    "# creating an empty list for the statuses details of every tweet\n",
    "list_of_tweets = []\n",
    "\n",
    "# iterating over every status and saving the json-ified details into a list\n",
    "for id in df_image.tweet_id:\n",
    "    try:\n",
    "        status = api.get_status(id, tweet_mode='extended')\n",
    "        list_of_tweets.append(status._json)\n",
    "        time.sleep(0.1)\n",
    "    except:\n",
    "        print('Error for ' + str(id))\n",
    "\n",
    "# saving the list as a file\n",
    "with open('tweet_json.txt', 'w') as file:\n",
    "      json.dump(list_of_tweets, file)"
   ]
  },
  {
   "cell_type": "code",
   "execution_count": 6,
   "metadata": {},
   "outputs": [],
   "source": [
    "# reading the created file into a dataframe\n",
    "df_tweet = pd.read_json('tweet_json.txt')"
   ]
  },
  {
   "cell_type": "markdown",
   "metadata": {},
   "source": [
    "## Assess"
   ]
  },
  {
   "cell_type": "markdown",
   "metadata": {},
   "source": [
    "### Assessing df_archive"
   ]
  },
  {
   "cell_type": "code",
   "execution_count": 7,
   "metadata": {},
   "outputs": [
    {
     "data": {
      "text/html": [
       "<div>\n",
       "<style>\n",
       "    .dataframe thead tr:only-child th {\n",
       "        text-align: right;\n",
       "    }\n",
       "\n",
       "    .dataframe thead th {\n",
       "        text-align: left;\n",
       "    }\n",
       "\n",
       "    .dataframe tbody tr th {\n",
       "        vertical-align: top;\n",
       "    }\n",
       "</style>\n",
       "<table border=\"1\" class=\"dataframe\">\n",
       "  <thead>\n",
       "    <tr style=\"text-align: right;\">\n",
       "      <th></th>\n",
       "      <th>tweet_id</th>\n",
       "      <th>in_reply_to_status_id</th>\n",
       "      <th>in_reply_to_user_id</th>\n",
       "      <th>timestamp</th>\n",
       "      <th>source</th>\n",
       "      <th>text</th>\n",
       "      <th>retweeted_status_id</th>\n",
       "      <th>retweeted_status_user_id</th>\n",
       "      <th>retweeted_status_timestamp</th>\n",
       "      <th>expanded_urls</th>\n",
       "      <th>rating_numerator</th>\n",
       "      <th>rating_denominator</th>\n",
       "      <th>name</th>\n",
       "      <th>doggo</th>\n",
       "      <th>floofer</th>\n",
       "      <th>pupper</th>\n",
       "      <th>puppo</th>\n",
       "    </tr>\n",
       "  </thead>\n",
       "  <tbody>\n",
       "    <tr>\n",
       "      <th>0</th>\n",
       "      <td>892420643555336193</td>\n",
       "      <td>NaN</td>\n",
       "      <td>NaN</td>\n",
       "      <td>2017-08-01 16:23:56 +0000</td>\n",
       "      <td>&lt;a href=\"http://twitter.com/download/iphone\" r...</td>\n",
       "      <td>This is Phineas. He's a mystical boy. Only eve...</td>\n",
       "      <td>NaN</td>\n",
       "      <td>NaN</td>\n",
       "      <td>NaN</td>\n",
       "      <td>https://twitter.com/dog_rates/status/892420643...</td>\n",
       "      <td>13</td>\n",
       "      <td>10</td>\n",
       "      <td>Phineas</td>\n",
       "      <td>None</td>\n",
       "      <td>None</td>\n",
       "      <td>None</td>\n",
       "      <td>None</td>\n",
       "    </tr>\n",
       "    <tr>\n",
       "      <th>1</th>\n",
       "      <td>892177421306343426</td>\n",
       "      <td>NaN</td>\n",
       "      <td>NaN</td>\n",
       "      <td>2017-08-01 00:17:27 +0000</td>\n",
       "      <td>&lt;a href=\"http://twitter.com/download/iphone\" r...</td>\n",
       "      <td>This is Tilly. She's just checking pup on you....</td>\n",
       "      <td>NaN</td>\n",
       "      <td>NaN</td>\n",
       "      <td>NaN</td>\n",
       "      <td>https://twitter.com/dog_rates/status/892177421...</td>\n",
       "      <td>13</td>\n",
       "      <td>10</td>\n",
       "      <td>Tilly</td>\n",
       "      <td>None</td>\n",
       "      <td>None</td>\n",
       "      <td>None</td>\n",
       "      <td>None</td>\n",
       "    </tr>\n",
       "    <tr>\n",
       "      <th>2</th>\n",
       "      <td>891815181378084864</td>\n",
       "      <td>NaN</td>\n",
       "      <td>NaN</td>\n",
       "      <td>2017-07-31 00:18:03 +0000</td>\n",
       "      <td>&lt;a href=\"http://twitter.com/download/iphone\" r...</td>\n",
       "      <td>This is Archie. He is a rare Norwegian Pouncin...</td>\n",
       "      <td>NaN</td>\n",
       "      <td>NaN</td>\n",
       "      <td>NaN</td>\n",
       "      <td>https://twitter.com/dog_rates/status/891815181...</td>\n",
       "      <td>12</td>\n",
       "      <td>10</td>\n",
       "      <td>Archie</td>\n",
       "      <td>None</td>\n",
       "      <td>None</td>\n",
       "      <td>None</td>\n",
       "      <td>None</td>\n",
       "    </tr>\n",
       "    <tr>\n",
       "      <th>3</th>\n",
       "      <td>891689557279858688</td>\n",
       "      <td>NaN</td>\n",
       "      <td>NaN</td>\n",
       "      <td>2017-07-30 15:58:51 +0000</td>\n",
       "      <td>&lt;a href=\"http://twitter.com/download/iphone\" r...</td>\n",
       "      <td>This is Darla. She commenced a snooze mid meal...</td>\n",
       "      <td>NaN</td>\n",
       "      <td>NaN</td>\n",
       "      <td>NaN</td>\n",
       "      <td>https://twitter.com/dog_rates/status/891689557...</td>\n",
       "      <td>13</td>\n",
       "      <td>10</td>\n",
       "      <td>Darla</td>\n",
       "      <td>None</td>\n",
       "      <td>None</td>\n",
       "      <td>None</td>\n",
       "      <td>None</td>\n",
       "    </tr>\n",
       "    <tr>\n",
       "      <th>4</th>\n",
       "      <td>891327558926688256</td>\n",
       "      <td>NaN</td>\n",
       "      <td>NaN</td>\n",
       "      <td>2017-07-29 16:00:24 +0000</td>\n",
       "      <td>&lt;a href=\"http://twitter.com/download/iphone\" r...</td>\n",
       "      <td>This is Franklin. He would like you to stop ca...</td>\n",
       "      <td>NaN</td>\n",
       "      <td>NaN</td>\n",
       "      <td>NaN</td>\n",
       "      <td>https://twitter.com/dog_rates/status/891327558...</td>\n",
       "      <td>12</td>\n",
       "      <td>10</td>\n",
       "      <td>Franklin</td>\n",
       "      <td>None</td>\n",
       "      <td>None</td>\n",
       "      <td>None</td>\n",
       "      <td>None</td>\n",
       "    </tr>\n",
       "    <tr>\n",
       "      <th>5</th>\n",
       "      <td>891087950875897856</td>\n",
       "      <td>NaN</td>\n",
       "      <td>NaN</td>\n",
       "      <td>2017-07-29 00:08:17 +0000</td>\n",
       "      <td>&lt;a href=\"http://twitter.com/download/iphone\" r...</td>\n",
       "      <td>Here we have a majestic great white breaching ...</td>\n",
       "      <td>NaN</td>\n",
       "      <td>NaN</td>\n",
       "      <td>NaN</td>\n",
       "      <td>https://twitter.com/dog_rates/status/891087950...</td>\n",
       "      <td>13</td>\n",
       "      <td>10</td>\n",
       "      <td>None</td>\n",
       "      <td>None</td>\n",
       "      <td>None</td>\n",
       "      <td>None</td>\n",
       "      <td>None</td>\n",
       "    </tr>\n",
       "    <tr>\n",
       "      <th>6</th>\n",
       "      <td>890971913173991426</td>\n",
       "      <td>NaN</td>\n",
       "      <td>NaN</td>\n",
       "      <td>2017-07-28 16:27:12 +0000</td>\n",
       "      <td>&lt;a href=\"http://twitter.com/download/iphone\" r...</td>\n",
       "      <td>Meet Jax. He enjoys ice cream so much he gets ...</td>\n",
       "      <td>NaN</td>\n",
       "      <td>NaN</td>\n",
       "      <td>NaN</td>\n",
       "      <td>https://gofundme.com/ydvmve-surgery-for-jax,ht...</td>\n",
       "      <td>13</td>\n",
       "      <td>10</td>\n",
       "      <td>Jax</td>\n",
       "      <td>None</td>\n",
       "      <td>None</td>\n",
       "      <td>None</td>\n",
       "      <td>None</td>\n",
       "    </tr>\n",
       "    <tr>\n",
       "      <th>7</th>\n",
       "      <td>890729181411237888</td>\n",
       "      <td>NaN</td>\n",
       "      <td>NaN</td>\n",
       "      <td>2017-07-28 00:22:40 +0000</td>\n",
       "      <td>&lt;a href=\"http://twitter.com/download/iphone\" r...</td>\n",
       "      <td>When you watch your owner call another dog a g...</td>\n",
       "      <td>NaN</td>\n",
       "      <td>NaN</td>\n",
       "      <td>NaN</td>\n",
       "      <td>https://twitter.com/dog_rates/status/890729181...</td>\n",
       "      <td>13</td>\n",
       "      <td>10</td>\n",
       "      <td>None</td>\n",
       "      <td>None</td>\n",
       "      <td>None</td>\n",
       "      <td>None</td>\n",
       "      <td>None</td>\n",
       "    </tr>\n",
       "    <tr>\n",
       "      <th>8</th>\n",
       "      <td>890609185150312448</td>\n",
       "      <td>NaN</td>\n",
       "      <td>NaN</td>\n",
       "      <td>2017-07-27 16:25:51 +0000</td>\n",
       "      <td>&lt;a href=\"http://twitter.com/download/iphone\" r...</td>\n",
       "      <td>This is Zoey. She doesn't want to be one of th...</td>\n",
       "      <td>NaN</td>\n",
       "      <td>NaN</td>\n",
       "      <td>NaN</td>\n",
       "      <td>https://twitter.com/dog_rates/status/890609185...</td>\n",
       "      <td>13</td>\n",
       "      <td>10</td>\n",
       "      <td>Zoey</td>\n",
       "      <td>None</td>\n",
       "      <td>None</td>\n",
       "      <td>None</td>\n",
       "      <td>None</td>\n",
       "    </tr>\n",
       "    <tr>\n",
       "      <th>9</th>\n",
       "      <td>890240255349198849</td>\n",
       "      <td>NaN</td>\n",
       "      <td>NaN</td>\n",
       "      <td>2017-07-26 15:59:51 +0000</td>\n",
       "      <td>&lt;a href=\"http://twitter.com/download/iphone\" r...</td>\n",
       "      <td>This is Cassie. She is a college pup. Studying...</td>\n",
       "      <td>NaN</td>\n",
       "      <td>NaN</td>\n",
       "      <td>NaN</td>\n",
       "      <td>https://twitter.com/dog_rates/status/890240255...</td>\n",
       "      <td>14</td>\n",
       "      <td>10</td>\n",
       "      <td>Cassie</td>\n",
       "      <td>doggo</td>\n",
       "      <td>None</td>\n",
       "      <td>None</td>\n",
       "      <td>None</td>\n",
       "    </tr>\n",
       "  </tbody>\n",
       "</table>\n",
       "</div>"
      ],
      "text/plain": [
       "             tweet_id  in_reply_to_status_id  in_reply_to_user_id  \\\n",
       "0  892420643555336193                    NaN                  NaN   \n",
       "1  892177421306343426                    NaN                  NaN   \n",
       "2  891815181378084864                    NaN                  NaN   \n",
       "3  891689557279858688                    NaN                  NaN   \n",
       "4  891327558926688256                    NaN                  NaN   \n",
       "5  891087950875897856                    NaN                  NaN   \n",
       "6  890971913173991426                    NaN                  NaN   \n",
       "7  890729181411237888                    NaN                  NaN   \n",
       "8  890609185150312448                    NaN                  NaN   \n",
       "9  890240255349198849                    NaN                  NaN   \n",
       "\n",
       "                   timestamp  \\\n",
       "0  2017-08-01 16:23:56 +0000   \n",
       "1  2017-08-01 00:17:27 +0000   \n",
       "2  2017-07-31 00:18:03 +0000   \n",
       "3  2017-07-30 15:58:51 +0000   \n",
       "4  2017-07-29 16:00:24 +0000   \n",
       "5  2017-07-29 00:08:17 +0000   \n",
       "6  2017-07-28 16:27:12 +0000   \n",
       "7  2017-07-28 00:22:40 +0000   \n",
       "8  2017-07-27 16:25:51 +0000   \n",
       "9  2017-07-26 15:59:51 +0000   \n",
       "\n",
       "                                              source  \\\n",
       "0  <a href=\"http://twitter.com/download/iphone\" r...   \n",
       "1  <a href=\"http://twitter.com/download/iphone\" r...   \n",
       "2  <a href=\"http://twitter.com/download/iphone\" r...   \n",
       "3  <a href=\"http://twitter.com/download/iphone\" r...   \n",
       "4  <a href=\"http://twitter.com/download/iphone\" r...   \n",
       "5  <a href=\"http://twitter.com/download/iphone\" r...   \n",
       "6  <a href=\"http://twitter.com/download/iphone\" r...   \n",
       "7  <a href=\"http://twitter.com/download/iphone\" r...   \n",
       "8  <a href=\"http://twitter.com/download/iphone\" r...   \n",
       "9  <a href=\"http://twitter.com/download/iphone\" r...   \n",
       "\n",
       "                                                text  retweeted_status_id  \\\n",
       "0  This is Phineas. He's a mystical boy. Only eve...                  NaN   \n",
       "1  This is Tilly. She's just checking pup on you....                  NaN   \n",
       "2  This is Archie. He is a rare Norwegian Pouncin...                  NaN   \n",
       "3  This is Darla. She commenced a snooze mid meal...                  NaN   \n",
       "4  This is Franklin. He would like you to stop ca...                  NaN   \n",
       "5  Here we have a majestic great white breaching ...                  NaN   \n",
       "6  Meet Jax. He enjoys ice cream so much he gets ...                  NaN   \n",
       "7  When you watch your owner call another dog a g...                  NaN   \n",
       "8  This is Zoey. She doesn't want to be one of th...                  NaN   \n",
       "9  This is Cassie. She is a college pup. Studying...                  NaN   \n",
       "\n",
       "   retweeted_status_user_id retweeted_status_timestamp  \\\n",
       "0                       NaN                        NaN   \n",
       "1                       NaN                        NaN   \n",
       "2                       NaN                        NaN   \n",
       "3                       NaN                        NaN   \n",
       "4                       NaN                        NaN   \n",
       "5                       NaN                        NaN   \n",
       "6                       NaN                        NaN   \n",
       "7                       NaN                        NaN   \n",
       "8                       NaN                        NaN   \n",
       "9                       NaN                        NaN   \n",
       "\n",
       "                                       expanded_urls  rating_numerator  \\\n",
       "0  https://twitter.com/dog_rates/status/892420643...                13   \n",
       "1  https://twitter.com/dog_rates/status/892177421...                13   \n",
       "2  https://twitter.com/dog_rates/status/891815181...                12   \n",
       "3  https://twitter.com/dog_rates/status/891689557...                13   \n",
       "4  https://twitter.com/dog_rates/status/891327558...                12   \n",
       "5  https://twitter.com/dog_rates/status/891087950...                13   \n",
       "6  https://gofundme.com/ydvmve-surgery-for-jax,ht...                13   \n",
       "7  https://twitter.com/dog_rates/status/890729181...                13   \n",
       "8  https://twitter.com/dog_rates/status/890609185...                13   \n",
       "9  https://twitter.com/dog_rates/status/890240255...                14   \n",
       "\n",
       "   rating_denominator      name  doggo floofer pupper puppo  \n",
       "0                  10   Phineas   None    None   None  None  \n",
       "1                  10     Tilly   None    None   None  None  \n",
       "2                  10    Archie   None    None   None  None  \n",
       "3                  10     Darla   None    None   None  None  \n",
       "4                  10  Franklin   None    None   None  None  \n",
       "5                  10      None   None    None   None  None  \n",
       "6                  10       Jax   None    None   None  None  \n",
       "7                  10      None   None    None   None  None  \n",
       "8                  10      Zoey   None    None   None  None  \n",
       "9                  10    Cassie  doggo    None   None  None  "
      ]
     },
     "execution_count": 7,
     "metadata": {},
     "output_type": "execute_result"
    }
   ],
   "source": [
    "df_archive.head(n=10)"
   ]
  },
  {
   "cell_type": "code",
   "execution_count": 8,
   "metadata": {},
   "outputs": [
    {
     "name": "stdout",
     "output_type": "stream",
     "text": [
      "<class 'pandas.core.frame.DataFrame'>\n",
      "RangeIndex: 2356 entries, 0 to 2355\n",
      "Data columns (total 17 columns):\n",
      "tweet_id                      2356 non-null int64\n",
      "in_reply_to_status_id         78 non-null float64\n",
      "in_reply_to_user_id           78 non-null float64\n",
      "timestamp                     2356 non-null object\n",
      "source                        2356 non-null object\n",
      "text                          2356 non-null object\n",
      "retweeted_status_id           181 non-null float64\n",
      "retweeted_status_user_id      181 non-null float64\n",
      "retweeted_status_timestamp    181 non-null object\n",
      "expanded_urls                 2297 non-null object\n",
      "rating_numerator              2356 non-null int64\n",
      "rating_denominator            2356 non-null int64\n",
      "name                          2356 non-null object\n",
      "doggo                         2356 non-null object\n",
      "floofer                       2356 non-null object\n",
      "pupper                        2356 non-null object\n",
      "puppo                         2356 non-null object\n",
      "dtypes: float64(4), int64(3), object(10)\n",
      "memory usage: 313.0+ KB\n"
     ]
    }
   ],
   "source": [
    "df_archive.info()"
   ]
  },
  {
   "cell_type": "code",
   "execution_count": 9,
   "metadata": {},
   "outputs": [
    {
     "data": {
      "text/plain": [
       "0"
      ]
     },
     "execution_count": 9,
     "metadata": {},
     "output_type": "execute_result"
    }
   ],
   "source": [
    "# checking for duplicate tweet_ids\n",
    "df_archive.tweet_id.duplicated().sum()"
   ]
  },
  {
   "cell_type": "code",
   "execution_count": 10,
   "metadata": {},
   "outputs": [
    {
     "data": {
      "text/plain": [
       "None     2259\n",
       "doggo      97\n",
       "Name: doggo, dtype: int64"
      ]
     },
     "execution_count": 10,
     "metadata": {},
     "output_type": "execute_result"
    }
   ],
   "source": [
    "# checking the amount of \"doggos\"\n",
    "df_archive.doggo.value_counts()"
   ]
  },
  {
   "cell_type": "code",
   "execution_count": 11,
   "metadata": {},
   "outputs": [
    {
     "data": {
      "text/plain": [
       "None       2346\n",
       "floofer      10\n",
       "Name: floofer, dtype: int64"
      ]
     },
     "execution_count": 11,
     "metadata": {},
     "output_type": "execute_result"
    }
   ],
   "source": [
    "# checking the amount of \"floofer\"\n",
    "df_archive.floofer.value_counts()"
   ]
  },
  {
   "cell_type": "code",
   "execution_count": 12,
   "metadata": {},
   "outputs": [
    {
     "data": {
      "text/plain": [
       "None      2099\n",
       "pupper     257\n",
       "Name: pupper, dtype: int64"
      ]
     },
     "execution_count": 12,
     "metadata": {},
     "output_type": "execute_result"
    }
   ],
   "source": [
    "# checking the amount of \"puppers\"\n",
    "df_archive.pupper.value_counts()"
   ]
  },
  {
   "cell_type": "code",
   "execution_count": 13,
   "metadata": {},
   "outputs": [
    {
     "data": {
      "text/plain": [
       "None     2326\n",
       "puppo      30\n",
       "Name: puppo, dtype: int64"
      ]
     },
     "execution_count": 13,
     "metadata": {},
     "output_type": "execute_result"
    }
   ],
   "source": [
    "# checking the amount of \"puppos\"\n",
    "df_archive.puppo.value_counts()"
   ]
  },
  {
   "cell_type": "code",
   "execution_count": 14,
   "metadata": {},
   "outputs": [
    {
     "name": "stdout",
     "output_type": "stream",
     "text": [
      "<class 'pandas.core.frame.DataFrame'>\n",
      "Int64Index: 1976 entries, 0 to 2355\n",
      "Data columns (total 17 columns):\n",
      "tweet_id                      1976 non-null int64\n",
      "in_reply_to_status_id         70 non-null float64\n",
      "in_reply_to_user_id           70 non-null float64\n",
      "timestamp                     1976 non-null object\n",
      "source                        1976 non-null object\n",
      "text                          1976 non-null object\n",
      "retweeted_status_id           145 non-null float64\n",
      "retweeted_status_user_id      145 non-null float64\n",
      "retweeted_status_timestamp    145 non-null object\n",
      "expanded_urls                 1923 non-null object\n",
      "rating_numerator              1976 non-null int64\n",
      "rating_denominator            1976 non-null int64\n",
      "name                          1976 non-null object\n",
      "doggo                         1976 non-null object\n",
      "floofer                       1976 non-null object\n",
      "pupper                        1976 non-null object\n",
      "puppo                         1976 non-null object\n",
      "dtypes: float64(4), int64(3), object(10)\n",
      "memory usage: 277.9+ KB\n"
     ]
    }
   ],
   "source": [
    "# getting the number of entries without a categorization \n",
    "df_archive[(df_archive.doggo == 'None') & (df_archive.floofer == 'None') & (df_archive.pupper == 'None') & (df_archive.puppo == 'None')].info()"
   ]
  },
  {
   "cell_type": "code",
   "execution_count": 15,
   "metadata": {},
   "outputs": [
    {
     "data": {
      "text/html": [
       "<div>\n",
       "<style>\n",
       "    .dataframe thead tr:only-child th {\n",
       "        text-align: right;\n",
       "    }\n",
       "\n",
       "    .dataframe thead th {\n",
       "        text-align: left;\n",
       "    }\n",
       "\n",
       "    .dataframe tbody tr th {\n",
       "        vertical-align: top;\n",
       "    }\n",
       "</style>\n",
       "<table border=\"1\" class=\"dataframe\">\n",
       "  <thead>\n",
       "    <tr style=\"text-align: right;\">\n",
       "      <th></th>\n",
       "      <th>tweet_id</th>\n",
       "      <th>in_reply_to_status_id</th>\n",
       "      <th>in_reply_to_user_id</th>\n",
       "      <th>retweeted_status_id</th>\n",
       "      <th>retweeted_status_user_id</th>\n",
       "      <th>rating_numerator</th>\n",
       "      <th>rating_denominator</th>\n",
       "    </tr>\n",
       "  </thead>\n",
       "  <tbody>\n",
       "    <tr>\n",
       "      <th>count</th>\n",
       "      <td>2.356000e+03</td>\n",
       "      <td>7.800000e+01</td>\n",
       "      <td>7.800000e+01</td>\n",
       "      <td>1.810000e+02</td>\n",
       "      <td>1.810000e+02</td>\n",
       "      <td>2356.000000</td>\n",
       "      <td>2356.000000</td>\n",
       "    </tr>\n",
       "    <tr>\n",
       "      <th>mean</th>\n",
       "      <td>7.427716e+17</td>\n",
       "      <td>7.455079e+17</td>\n",
       "      <td>2.014171e+16</td>\n",
       "      <td>7.720400e+17</td>\n",
       "      <td>1.241698e+16</td>\n",
       "      <td>13.126486</td>\n",
       "      <td>10.455433</td>\n",
       "    </tr>\n",
       "    <tr>\n",
       "      <th>std</th>\n",
       "      <td>6.856705e+16</td>\n",
       "      <td>7.582492e+16</td>\n",
       "      <td>1.252797e+17</td>\n",
       "      <td>6.236928e+16</td>\n",
       "      <td>9.599254e+16</td>\n",
       "      <td>45.876648</td>\n",
       "      <td>6.745237</td>\n",
       "    </tr>\n",
       "    <tr>\n",
       "      <th>min</th>\n",
       "      <td>6.660209e+17</td>\n",
       "      <td>6.658147e+17</td>\n",
       "      <td>1.185634e+07</td>\n",
       "      <td>6.661041e+17</td>\n",
       "      <td>7.832140e+05</td>\n",
       "      <td>0.000000</td>\n",
       "      <td>0.000000</td>\n",
       "    </tr>\n",
       "    <tr>\n",
       "      <th>25%</th>\n",
       "      <td>6.783989e+17</td>\n",
       "      <td>6.757419e+17</td>\n",
       "      <td>3.086374e+08</td>\n",
       "      <td>7.186315e+17</td>\n",
       "      <td>4.196984e+09</td>\n",
       "      <td>10.000000</td>\n",
       "      <td>10.000000</td>\n",
       "    </tr>\n",
       "    <tr>\n",
       "      <th>50%</th>\n",
       "      <td>7.196279e+17</td>\n",
       "      <td>7.038708e+17</td>\n",
       "      <td>4.196984e+09</td>\n",
       "      <td>7.804657e+17</td>\n",
       "      <td>4.196984e+09</td>\n",
       "      <td>11.000000</td>\n",
       "      <td>10.000000</td>\n",
       "    </tr>\n",
       "    <tr>\n",
       "      <th>75%</th>\n",
       "      <td>7.993373e+17</td>\n",
       "      <td>8.257804e+17</td>\n",
       "      <td>4.196984e+09</td>\n",
       "      <td>8.203146e+17</td>\n",
       "      <td>4.196984e+09</td>\n",
       "      <td>12.000000</td>\n",
       "      <td>10.000000</td>\n",
       "    </tr>\n",
       "    <tr>\n",
       "      <th>max</th>\n",
       "      <td>8.924206e+17</td>\n",
       "      <td>8.862664e+17</td>\n",
       "      <td>8.405479e+17</td>\n",
       "      <td>8.874740e+17</td>\n",
       "      <td>7.874618e+17</td>\n",
       "      <td>1776.000000</td>\n",
       "      <td>170.000000</td>\n",
       "    </tr>\n",
       "  </tbody>\n",
       "</table>\n",
       "</div>"
      ],
      "text/plain": [
       "           tweet_id  in_reply_to_status_id  in_reply_to_user_id  \\\n",
       "count  2.356000e+03           7.800000e+01         7.800000e+01   \n",
       "mean   7.427716e+17           7.455079e+17         2.014171e+16   \n",
       "std    6.856705e+16           7.582492e+16         1.252797e+17   \n",
       "min    6.660209e+17           6.658147e+17         1.185634e+07   \n",
       "25%    6.783989e+17           6.757419e+17         3.086374e+08   \n",
       "50%    7.196279e+17           7.038708e+17         4.196984e+09   \n",
       "75%    7.993373e+17           8.257804e+17         4.196984e+09   \n",
       "max    8.924206e+17           8.862664e+17         8.405479e+17   \n",
       "\n",
       "       retweeted_status_id  retweeted_status_user_id  rating_numerator  \\\n",
       "count         1.810000e+02              1.810000e+02       2356.000000   \n",
       "mean          7.720400e+17              1.241698e+16         13.126486   \n",
       "std           6.236928e+16              9.599254e+16         45.876648   \n",
       "min           6.661041e+17              7.832140e+05          0.000000   \n",
       "25%           7.186315e+17              4.196984e+09         10.000000   \n",
       "50%           7.804657e+17              4.196984e+09         11.000000   \n",
       "75%           8.203146e+17              4.196984e+09         12.000000   \n",
       "max           8.874740e+17              7.874618e+17       1776.000000   \n",
       "\n",
       "       rating_denominator  \n",
       "count         2356.000000  \n",
       "mean            10.455433  \n",
       "std              6.745237  \n",
       "min              0.000000  \n",
       "25%             10.000000  \n",
       "50%             10.000000  \n",
       "75%             10.000000  \n",
       "max            170.000000  "
      ]
     },
     "execution_count": 15,
     "metadata": {},
     "output_type": "execute_result"
    }
   ],
   "source": [
    "df_archive.describe()"
   ]
  },
  {
   "cell_type": "code",
   "execution_count": 16,
   "metadata": {},
   "outputs": [
    {
     "data": {
      "text/plain": [
       "82"
      ]
     },
     "execution_count": 16,
     "metadata": {},
     "output_type": "execute_result"
    }
   ],
   "source": [
    "# getting the number of rows where rating_numerator is above 13\n",
    "df_archive.rating_numerator[df_archive.rating_numerator > 13].count()"
   ]
  },
  {
   "cell_type": "code",
   "execution_count": 17,
   "metadata": {},
   "outputs": [
    {
     "data": {
      "text/plain": [
       "20"
      ]
     },
     "execution_count": 17,
     "metadata": {},
     "output_type": "execute_result"
    }
   ],
   "source": [
    "# getting the number of rows where rating_numerator is above 13\n",
    "df_archive.rating_denominator[df_archive.rating_denominator > 10].count()"
   ]
  },
  {
   "cell_type": "markdown",
   "metadata": {},
   "source": [
    "### Assessing df_image"
   ]
  },
  {
   "cell_type": "code",
   "execution_count": 18,
   "metadata": {},
   "outputs": [
    {
     "data": {
      "text/html": [
       "<div>\n",
       "<style>\n",
       "    .dataframe thead tr:only-child th {\n",
       "        text-align: right;\n",
       "    }\n",
       "\n",
       "    .dataframe thead th {\n",
       "        text-align: left;\n",
       "    }\n",
       "\n",
       "    .dataframe tbody tr th {\n",
       "        vertical-align: top;\n",
       "    }\n",
       "</style>\n",
       "<table border=\"1\" class=\"dataframe\">\n",
       "  <thead>\n",
       "    <tr style=\"text-align: right;\">\n",
       "      <th></th>\n",
       "      <th>tweet_id</th>\n",
       "      <th>jpg_url</th>\n",
       "      <th>img_num</th>\n",
       "      <th>p1</th>\n",
       "      <th>p1_conf</th>\n",
       "      <th>p1_dog</th>\n",
       "      <th>p2</th>\n",
       "      <th>p2_conf</th>\n",
       "      <th>p2_dog</th>\n",
       "      <th>p3</th>\n",
       "      <th>p3_conf</th>\n",
       "      <th>p3_dog</th>\n",
       "    </tr>\n",
       "  </thead>\n",
       "  <tbody>\n",
       "    <tr>\n",
       "      <th>0</th>\n",
       "      <td>666020888022790149</td>\n",
       "      <td>https://pbs.twimg.com/media/CT4udn0WwAA0aMy.jpg</td>\n",
       "      <td>1</td>\n",
       "      <td>Welsh_springer_spaniel</td>\n",
       "      <td>0.465074</td>\n",
       "      <td>True</td>\n",
       "      <td>collie</td>\n",
       "      <td>0.156665</td>\n",
       "      <td>True</td>\n",
       "      <td>Shetland_sheepdog</td>\n",
       "      <td>0.061428</td>\n",
       "      <td>True</td>\n",
       "    </tr>\n",
       "    <tr>\n",
       "      <th>1</th>\n",
       "      <td>666029285002620928</td>\n",
       "      <td>https://pbs.twimg.com/media/CT42GRgUYAA5iDo.jpg</td>\n",
       "      <td>1</td>\n",
       "      <td>redbone</td>\n",
       "      <td>0.506826</td>\n",
       "      <td>True</td>\n",
       "      <td>miniature_pinscher</td>\n",
       "      <td>0.074192</td>\n",
       "      <td>True</td>\n",
       "      <td>Rhodesian_ridgeback</td>\n",
       "      <td>0.072010</td>\n",
       "      <td>True</td>\n",
       "    </tr>\n",
       "    <tr>\n",
       "      <th>2</th>\n",
       "      <td>666033412701032449</td>\n",
       "      <td>https://pbs.twimg.com/media/CT4521TWwAEvMyu.jpg</td>\n",
       "      <td>1</td>\n",
       "      <td>German_shepherd</td>\n",
       "      <td>0.596461</td>\n",
       "      <td>True</td>\n",
       "      <td>malinois</td>\n",
       "      <td>0.138584</td>\n",
       "      <td>True</td>\n",
       "      <td>bloodhound</td>\n",
       "      <td>0.116197</td>\n",
       "      <td>True</td>\n",
       "    </tr>\n",
       "    <tr>\n",
       "      <th>3</th>\n",
       "      <td>666044226329800704</td>\n",
       "      <td>https://pbs.twimg.com/media/CT5Dr8HUEAA-lEu.jpg</td>\n",
       "      <td>1</td>\n",
       "      <td>Rhodesian_ridgeback</td>\n",
       "      <td>0.408143</td>\n",
       "      <td>True</td>\n",
       "      <td>redbone</td>\n",
       "      <td>0.360687</td>\n",
       "      <td>True</td>\n",
       "      <td>miniature_pinscher</td>\n",
       "      <td>0.222752</td>\n",
       "      <td>True</td>\n",
       "    </tr>\n",
       "    <tr>\n",
       "      <th>4</th>\n",
       "      <td>666049248165822465</td>\n",
       "      <td>https://pbs.twimg.com/media/CT5IQmsXIAAKY4A.jpg</td>\n",
       "      <td>1</td>\n",
       "      <td>miniature_pinscher</td>\n",
       "      <td>0.560311</td>\n",
       "      <td>True</td>\n",
       "      <td>Rottweiler</td>\n",
       "      <td>0.243682</td>\n",
       "      <td>True</td>\n",
       "      <td>Doberman</td>\n",
       "      <td>0.154629</td>\n",
       "      <td>True</td>\n",
       "    </tr>\n",
       "    <tr>\n",
       "      <th>5</th>\n",
       "      <td>666050758794694657</td>\n",
       "      <td>https://pbs.twimg.com/media/CT5Jof1WUAEuVxN.jpg</td>\n",
       "      <td>1</td>\n",
       "      <td>Bernese_mountain_dog</td>\n",
       "      <td>0.651137</td>\n",
       "      <td>True</td>\n",
       "      <td>English_springer</td>\n",
       "      <td>0.263788</td>\n",
       "      <td>True</td>\n",
       "      <td>Greater_Swiss_Mountain_dog</td>\n",
       "      <td>0.016199</td>\n",
       "      <td>True</td>\n",
       "    </tr>\n",
       "    <tr>\n",
       "      <th>6</th>\n",
       "      <td>666051853826850816</td>\n",
       "      <td>https://pbs.twimg.com/media/CT5KoJ1WoAAJash.jpg</td>\n",
       "      <td>1</td>\n",
       "      <td>box_turtle</td>\n",
       "      <td>0.933012</td>\n",
       "      <td>False</td>\n",
       "      <td>mud_turtle</td>\n",
       "      <td>0.045885</td>\n",
       "      <td>False</td>\n",
       "      <td>terrapin</td>\n",
       "      <td>0.017885</td>\n",
       "      <td>False</td>\n",
       "    </tr>\n",
       "    <tr>\n",
       "      <th>7</th>\n",
       "      <td>666055525042405380</td>\n",
       "      <td>https://pbs.twimg.com/media/CT5N9tpXIAAifs1.jpg</td>\n",
       "      <td>1</td>\n",
       "      <td>chow</td>\n",
       "      <td>0.692517</td>\n",
       "      <td>True</td>\n",
       "      <td>Tibetan_mastiff</td>\n",
       "      <td>0.058279</td>\n",
       "      <td>True</td>\n",
       "      <td>fur_coat</td>\n",
       "      <td>0.054449</td>\n",
       "      <td>False</td>\n",
       "    </tr>\n",
       "    <tr>\n",
       "      <th>8</th>\n",
       "      <td>666057090499244032</td>\n",
       "      <td>https://pbs.twimg.com/media/CT5PY90WoAAQGLo.jpg</td>\n",
       "      <td>1</td>\n",
       "      <td>shopping_cart</td>\n",
       "      <td>0.962465</td>\n",
       "      <td>False</td>\n",
       "      <td>shopping_basket</td>\n",
       "      <td>0.014594</td>\n",
       "      <td>False</td>\n",
       "      <td>golden_retriever</td>\n",
       "      <td>0.007959</td>\n",
       "      <td>True</td>\n",
       "    </tr>\n",
       "    <tr>\n",
       "      <th>9</th>\n",
       "      <td>666058600524156928</td>\n",
       "      <td>https://pbs.twimg.com/media/CT5Qw94XAAA_2dP.jpg</td>\n",
       "      <td>1</td>\n",
       "      <td>miniature_poodle</td>\n",
       "      <td>0.201493</td>\n",
       "      <td>True</td>\n",
       "      <td>komondor</td>\n",
       "      <td>0.192305</td>\n",
       "      <td>True</td>\n",
       "      <td>soft-coated_wheaten_terrier</td>\n",
       "      <td>0.082086</td>\n",
       "      <td>True</td>\n",
       "    </tr>\n",
       "  </tbody>\n",
       "</table>\n",
       "</div>"
      ],
      "text/plain": [
       "             tweet_id                                          jpg_url  \\\n",
       "0  666020888022790149  https://pbs.twimg.com/media/CT4udn0WwAA0aMy.jpg   \n",
       "1  666029285002620928  https://pbs.twimg.com/media/CT42GRgUYAA5iDo.jpg   \n",
       "2  666033412701032449  https://pbs.twimg.com/media/CT4521TWwAEvMyu.jpg   \n",
       "3  666044226329800704  https://pbs.twimg.com/media/CT5Dr8HUEAA-lEu.jpg   \n",
       "4  666049248165822465  https://pbs.twimg.com/media/CT5IQmsXIAAKY4A.jpg   \n",
       "5  666050758794694657  https://pbs.twimg.com/media/CT5Jof1WUAEuVxN.jpg   \n",
       "6  666051853826850816  https://pbs.twimg.com/media/CT5KoJ1WoAAJash.jpg   \n",
       "7  666055525042405380  https://pbs.twimg.com/media/CT5N9tpXIAAifs1.jpg   \n",
       "8  666057090499244032  https://pbs.twimg.com/media/CT5PY90WoAAQGLo.jpg   \n",
       "9  666058600524156928  https://pbs.twimg.com/media/CT5Qw94XAAA_2dP.jpg   \n",
       "\n",
       "   img_num                      p1   p1_conf  p1_dog                  p2  \\\n",
       "0        1  Welsh_springer_spaniel  0.465074    True              collie   \n",
       "1        1                 redbone  0.506826    True  miniature_pinscher   \n",
       "2        1         German_shepherd  0.596461    True            malinois   \n",
       "3        1     Rhodesian_ridgeback  0.408143    True             redbone   \n",
       "4        1      miniature_pinscher  0.560311    True          Rottweiler   \n",
       "5        1    Bernese_mountain_dog  0.651137    True    English_springer   \n",
       "6        1              box_turtle  0.933012   False          mud_turtle   \n",
       "7        1                    chow  0.692517    True     Tibetan_mastiff   \n",
       "8        1           shopping_cart  0.962465   False     shopping_basket   \n",
       "9        1        miniature_poodle  0.201493    True            komondor   \n",
       "\n",
       "    p2_conf  p2_dog                           p3   p3_conf  p3_dog  \n",
       "0  0.156665    True            Shetland_sheepdog  0.061428    True  \n",
       "1  0.074192    True          Rhodesian_ridgeback  0.072010    True  \n",
       "2  0.138584    True                   bloodhound  0.116197    True  \n",
       "3  0.360687    True           miniature_pinscher  0.222752    True  \n",
       "4  0.243682    True                     Doberman  0.154629    True  \n",
       "5  0.263788    True   Greater_Swiss_Mountain_dog  0.016199    True  \n",
       "6  0.045885   False                     terrapin  0.017885   False  \n",
       "7  0.058279    True                     fur_coat  0.054449   False  \n",
       "8  0.014594   False             golden_retriever  0.007959    True  \n",
       "9  0.192305    True  soft-coated_wheaten_terrier  0.082086    True  "
      ]
     },
     "execution_count": 18,
     "metadata": {},
     "output_type": "execute_result"
    }
   ],
   "source": [
    "df_image.head(n=10)"
   ]
  },
  {
   "cell_type": "code",
   "execution_count": 19,
   "metadata": {},
   "outputs": [
    {
     "name": "stdout",
     "output_type": "stream",
     "text": [
      "<class 'pandas.core.frame.DataFrame'>\n",
      "RangeIndex: 2075 entries, 0 to 2074\n",
      "Data columns (total 12 columns):\n",
      "tweet_id    2075 non-null int64\n",
      "jpg_url     2075 non-null object\n",
      "img_num     2075 non-null int64\n",
      "p1          2075 non-null object\n",
      "p1_conf     2075 non-null float64\n",
      "p1_dog      2075 non-null bool\n",
      "p2          2075 non-null object\n",
      "p2_conf     2075 non-null float64\n",
      "p2_dog      2075 non-null bool\n",
      "p3          2075 non-null object\n",
      "p3_conf     2075 non-null float64\n",
      "p3_dog      2075 non-null bool\n",
      "dtypes: bool(3), float64(3), int64(2), object(4)\n",
      "memory usage: 152.1+ KB\n"
     ]
    }
   ],
   "source": [
    "df_image.info()"
   ]
  },
  {
   "cell_type": "code",
   "execution_count": 20,
   "metadata": {},
   "outputs": [
    {
     "data": {
      "text/plain": [
       "True     1532\n",
       "False     543\n",
       "Name: p1_dog, dtype: int64"
      ]
     },
     "execution_count": 20,
     "metadata": {},
     "output_type": "execute_result"
    }
   ],
   "source": [
    "# how many rows are there where p1_dog is False?\n",
    "df_image.p1_dog.value_counts()"
   ]
  },
  {
   "cell_type": "code",
   "execution_count": 21,
   "metadata": {},
   "outputs": [
    {
     "data": {
      "text/plain": [
       "True     1553\n",
       "False     522\n",
       "Name: p2_dog, dtype: int64"
      ]
     },
     "execution_count": 21,
     "metadata": {},
     "output_type": "execute_result"
    }
   ],
   "source": [
    "# how many rows are there where p2_dog is False?\n",
    "df_image.p2_dog.value_counts()"
   ]
  },
  {
   "cell_type": "code",
   "execution_count": 22,
   "metadata": {},
   "outputs": [
    {
     "data": {
      "text/plain": [
       "True     1499\n",
       "False     576\n",
       "Name: p3_dog, dtype: int64"
      ]
     },
     "execution_count": 22,
     "metadata": {},
     "output_type": "execute_result"
    }
   ],
   "source": [
    "# how many rows are there where p3_dog is False?\n",
    "df_image.p3_dog.value_counts()"
   ]
  },
  {
   "cell_type": "code",
   "execution_count": 23,
   "metadata": {},
   "outputs": [
    {
     "data": {
      "text/plain": [
       "324"
      ]
     },
     "execution_count": 23,
     "metadata": {},
     "output_type": "execute_result"
    }
   ],
   "source": [
    "# getting the number of rows in which are no dogs\n",
    "df_image[(df_image.p1_dog == False) & (df_image.p2_dog == False) & (df_image.p3_dog == False)].shape[0]"
   ]
  },
  {
   "cell_type": "code",
   "execution_count": 24,
   "metadata": {},
   "outputs": [
    {
     "data": {
      "text/plain": [
       "1    1780\n",
       "2     198\n",
       "3      66\n",
       "4      31\n",
       "Name: img_num, dtype: int64"
      ]
     },
     "execution_count": 24,
     "metadata": {},
     "output_type": "execute_result"
    }
   ],
   "source": [
    "df_image.img_num.value_counts()"
   ]
  },
  {
   "cell_type": "code",
   "execution_count": 25,
   "metadata": {},
   "outputs": [
    {
     "data": {
      "text/html": [
       "<div>\n",
       "<style>\n",
       "    .dataframe thead tr:only-child th {\n",
       "        text-align: right;\n",
       "    }\n",
       "\n",
       "    .dataframe thead th {\n",
       "        text-align: left;\n",
       "    }\n",
       "\n",
       "    .dataframe tbody tr th {\n",
       "        vertical-align: top;\n",
       "    }\n",
       "</style>\n",
       "<table border=\"1\" class=\"dataframe\">\n",
       "  <thead>\n",
       "    <tr style=\"text-align: right;\">\n",
       "      <th></th>\n",
       "      <th>tweet_id</th>\n",
       "      <th>img_num</th>\n",
       "      <th>p1_conf</th>\n",
       "      <th>p2_conf</th>\n",
       "      <th>p3_conf</th>\n",
       "    </tr>\n",
       "  </thead>\n",
       "  <tbody>\n",
       "    <tr>\n",
       "      <th>count</th>\n",
       "      <td>2.075000e+03</td>\n",
       "      <td>2075.000000</td>\n",
       "      <td>2075.000000</td>\n",
       "      <td>2.075000e+03</td>\n",
       "      <td>2.075000e+03</td>\n",
       "    </tr>\n",
       "    <tr>\n",
       "      <th>mean</th>\n",
       "      <td>7.384514e+17</td>\n",
       "      <td>1.203855</td>\n",
       "      <td>0.594548</td>\n",
       "      <td>1.345886e-01</td>\n",
       "      <td>6.032417e-02</td>\n",
       "    </tr>\n",
       "    <tr>\n",
       "      <th>std</th>\n",
       "      <td>6.785203e+16</td>\n",
       "      <td>0.561875</td>\n",
       "      <td>0.271174</td>\n",
       "      <td>1.006657e-01</td>\n",
       "      <td>5.090593e-02</td>\n",
       "    </tr>\n",
       "    <tr>\n",
       "      <th>min</th>\n",
       "      <td>6.660209e+17</td>\n",
       "      <td>1.000000</td>\n",
       "      <td>0.044333</td>\n",
       "      <td>1.011300e-08</td>\n",
       "      <td>1.740170e-10</td>\n",
       "    </tr>\n",
       "    <tr>\n",
       "      <th>25%</th>\n",
       "      <td>6.764835e+17</td>\n",
       "      <td>1.000000</td>\n",
       "      <td>0.364412</td>\n",
       "      <td>5.388625e-02</td>\n",
       "      <td>1.622240e-02</td>\n",
       "    </tr>\n",
       "    <tr>\n",
       "      <th>50%</th>\n",
       "      <td>7.119988e+17</td>\n",
       "      <td>1.000000</td>\n",
       "      <td>0.588230</td>\n",
       "      <td>1.181810e-01</td>\n",
       "      <td>4.944380e-02</td>\n",
       "    </tr>\n",
       "    <tr>\n",
       "      <th>75%</th>\n",
       "      <td>7.932034e+17</td>\n",
       "      <td>1.000000</td>\n",
       "      <td>0.843855</td>\n",
       "      <td>1.955655e-01</td>\n",
       "      <td>9.180755e-02</td>\n",
       "    </tr>\n",
       "    <tr>\n",
       "      <th>max</th>\n",
       "      <td>8.924206e+17</td>\n",
       "      <td>4.000000</td>\n",
       "      <td>1.000000</td>\n",
       "      <td>4.880140e-01</td>\n",
       "      <td>2.734190e-01</td>\n",
       "    </tr>\n",
       "  </tbody>\n",
       "</table>\n",
       "</div>"
      ],
      "text/plain": [
       "           tweet_id      img_num      p1_conf       p2_conf       p3_conf\n",
       "count  2.075000e+03  2075.000000  2075.000000  2.075000e+03  2.075000e+03\n",
       "mean   7.384514e+17     1.203855     0.594548  1.345886e-01  6.032417e-02\n",
       "std    6.785203e+16     0.561875     0.271174  1.006657e-01  5.090593e-02\n",
       "min    6.660209e+17     1.000000     0.044333  1.011300e-08  1.740170e-10\n",
       "25%    6.764835e+17     1.000000     0.364412  5.388625e-02  1.622240e-02\n",
       "50%    7.119988e+17     1.000000     0.588230  1.181810e-01  4.944380e-02\n",
       "75%    7.932034e+17     1.000000     0.843855  1.955655e-01  9.180755e-02\n",
       "max    8.924206e+17     4.000000     1.000000  4.880140e-01  2.734190e-01"
      ]
     },
     "execution_count": 25,
     "metadata": {},
     "output_type": "execute_result"
    }
   ],
   "source": [
    "df_image.describe()"
   ]
  },
  {
   "cell_type": "markdown",
   "metadata": {},
   "source": [
    "### Assessing df_tweet"
   ]
  },
  {
   "cell_type": "code",
   "execution_count": 26,
   "metadata": {},
   "outputs": [
    {
     "data": {
      "text/html": [
       "<div>\n",
       "<style>\n",
       "    .dataframe thead tr:only-child th {\n",
       "        text-align: right;\n",
       "    }\n",
       "\n",
       "    .dataframe thead th {\n",
       "        text-align: left;\n",
       "    }\n",
       "\n",
       "    .dataframe tbody tr th {\n",
       "        vertical-align: top;\n",
       "    }\n",
       "</style>\n",
       "<table border=\"1\" class=\"dataframe\">\n",
       "  <thead>\n",
       "    <tr style=\"text-align: right;\">\n",
       "      <th></th>\n",
       "      <th>contributors</th>\n",
       "      <th>coordinates</th>\n",
       "      <th>created_at</th>\n",
       "      <th>display_text_range</th>\n",
       "      <th>entities</th>\n",
       "      <th>extended_entities</th>\n",
       "      <th>favorite_count</th>\n",
       "      <th>favorited</th>\n",
       "      <th>full_text</th>\n",
       "      <th>geo</th>\n",
       "      <th>...</th>\n",
       "      <th>lang</th>\n",
       "      <th>place</th>\n",
       "      <th>possibly_sensitive</th>\n",
       "      <th>possibly_sensitive_appealable</th>\n",
       "      <th>retweet_count</th>\n",
       "      <th>retweeted</th>\n",
       "      <th>retweeted_status</th>\n",
       "      <th>source</th>\n",
       "      <th>truncated</th>\n",
       "      <th>user</th>\n",
       "    </tr>\n",
       "  </thead>\n",
       "  <tbody>\n",
       "    <tr>\n",
       "      <th>0</th>\n",
       "      <td>NaN</td>\n",
       "      <td>NaN</td>\n",
       "      <td>2015-11-15 22:32:08</td>\n",
       "      <td>[0, 131]</td>\n",
       "      <td>{'hashtags': [], 'symbols': [], 'user_mentions...</td>\n",
       "      <td>{'media': [{'id': 666020881337073664, 'id_str'...</td>\n",
       "      <td>2538</td>\n",
       "      <td>False</td>\n",
       "      <td>Here we have a Japanese Irish Setter. Lost eye...</td>\n",
       "      <td>NaN</td>\n",
       "      <td>...</td>\n",
       "      <td>en</td>\n",
       "      <td>None</td>\n",
       "      <td>False</td>\n",
       "      <td>False</td>\n",
       "      <td>502</td>\n",
       "      <td>False</td>\n",
       "      <td>NaN</td>\n",
       "      <td>&lt;a href=\"http://twitter.com/download/iphone\" r...</td>\n",
       "      <td>False</td>\n",
       "      <td>{'id': 4196983835, 'id_str': '4196983835', 'na...</td>\n",
       "    </tr>\n",
       "    <tr>\n",
       "      <th>1</th>\n",
       "      <td>NaN</td>\n",
       "      <td>NaN</td>\n",
       "      <td>2015-11-15 23:05:30</td>\n",
       "      <td>[0, 139]</td>\n",
       "      <td>{'hashtags': [], 'symbols': [], 'user_mentions...</td>\n",
       "      <td>{'media': [{'id': 666029276303482880, 'id_str'...</td>\n",
       "      <td>126</td>\n",
       "      <td>False</td>\n",
       "      <td>This is a western brown Mitsubishi terrier. Up...</td>\n",
       "      <td>NaN</td>\n",
       "      <td>...</td>\n",
       "      <td>en</td>\n",
       "      <td>None</td>\n",
       "      <td>False</td>\n",
       "      <td>False</td>\n",
       "      <td>47</td>\n",
       "      <td>False</td>\n",
       "      <td>NaN</td>\n",
       "      <td>&lt;a href=\"http://twitter.com/download/iphone\" r...</td>\n",
       "      <td>False</td>\n",
       "      <td>{'id': 4196983835, 'id_str': '4196983835', 'na...</td>\n",
       "    </tr>\n",
       "    <tr>\n",
       "      <th>2</th>\n",
       "      <td>NaN</td>\n",
       "      <td>NaN</td>\n",
       "      <td>2015-11-15 23:21:54</td>\n",
       "      <td>[0, 130]</td>\n",
       "      <td>{'hashtags': [], 'symbols': [], 'user_mentions...</td>\n",
       "      <td>{'media': [{'id': 666033409081393153, 'id_str'...</td>\n",
       "      <td>123</td>\n",
       "      <td>False</td>\n",
       "      <td>Here is a very happy pup. Big fan of well-main...</td>\n",
       "      <td>NaN</td>\n",
       "      <td>...</td>\n",
       "      <td>en</td>\n",
       "      <td>None</td>\n",
       "      <td>False</td>\n",
       "      <td>False</td>\n",
       "      <td>43</td>\n",
       "      <td>False</td>\n",
       "      <td>NaN</td>\n",
       "      <td>&lt;a href=\"http://twitter.com/download/iphone\" r...</td>\n",
       "      <td>False</td>\n",
       "      <td>{'id': 4196983835, 'id_str': '4196983835', 'na...</td>\n",
       "    </tr>\n",
       "    <tr>\n",
       "      <th>3</th>\n",
       "      <td>NaN</td>\n",
       "      <td>NaN</td>\n",
       "      <td>2015-11-16 00:04:52</td>\n",
       "      <td>[0, 137]</td>\n",
       "      <td>{'hashtags': [], 'symbols': [], 'user_mentions...</td>\n",
       "      <td>{'media': [{'id': 666044217047650304, 'id_str'...</td>\n",
       "      <td>293</td>\n",
       "      <td>False</td>\n",
       "      <td>This is a purebred Piers Morgan. Loves to Netf...</td>\n",
       "      <td>NaN</td>\n",
       "      <td>...</td>\n",
       "      <td>en</td>\n",
       "      <td>None</td>\n",
       "      <td>False</td>\n",
       "      <td>False</td>\n",
       "      <td>139</td>\n",
       "      <td>False</td>\n",
       "      <td>NaN</td>\n",
       "      <td>&lt;a href=\"http://twitter.com/download/iphone\" r...</td>\n",
       "      <td>False</td>\n",
       "      <td>{'id': 4196983835, 'id_str': '4196983835', 'na...</td>\n",
       "    </tr>\n",
       "    <tr>\n",
       "      <th>4</th>\n",
       "      <td>NaN</td>\n",
       "      <td>NaN</td>\n",
       "      <td>2015-11-16 00:24:50</td>\n",
       "      <td>[0, 120]</td>\n",
       "      <td>{'hashtags': [], 'symbols': [], 'user_mentions...</td>\n",
       "      <td>{'media': [{'id': 666049244999131136, 'id_str'...</td>\n",
       "      <td>107</td>\n",
       "      <td>False</td>\n",
       "      <td>Here we have a 1949 1st generation vulpix. Enj...</td>\n",
       "      <td>NaN</td>\n",
       "      <td>...</td>\n",
       "      <td>en</td>\n",
       "      <td>None</td>\n",
       "      <td>False</td>\n",
       "      <td>False</td>\n",
       "      <td>41</td>\n",
       "      <td>False</td>\n",
       "      <td>NaN</td>\n",
       "      <td>&lt;a href=\"http://twitter.com/download/iphone\" r...</td>\n",
       "      <td>False</td>\n",
       "      <td>{'id': 4196983835, 'id_str': '4196983835', 'na...</td>\n",
       "    </tr>\n",
       "  </tbody>\n",
       "</table>\n",
       "<p>5 rows × 28 columns</p>\n",
       "</div>"
      ],
      "text/plain": [
       "   contributors  coordinates          created_at display_text_range  \\\n",
       "0           NaN          NaN 2015-11-15 22:32:08           [0, 131]   \n",
       "1           NaN          NaN 2015-11-15 23:05:30           [0, 139]   \n",
       "2           NaN          NaN 2015-11-15 23:21:54           [0, 130]   \n",
       "3           NaN          NaN 2015-11-16 00:04:52           [0, 137]   \n",
       "4           NaN          NaN 2015-11-16 00:24:50           [0, 120]   \n",
       "\n",
       "                                            entities  \\\n",
       "0  {'hashtags': [], 'symbols': [], 'user_mentions...   \n",
       "1  {'hashtags': [], 'symbols': [], 'user_mentions...   \n",
       "2  {'hashtags': [], 'symbols': [], 'user_mentions...   \n",
       "3  {'hashtags': [], 'symbols': [], 'user_mentions...   \n",
       "4  {'hashtags': [], 'symbols': [], 'user_mentions...   \n",
       "\n",
       "                                   extended_entities  favorite_count  \\\n",
       "0  {'media': [{'id': 666020881337073664, 'id_str'...            2538   \n",
       "1  {'media': [{'id': 666029276303482880, 'id_str'...             126   \n",
       "2  {'media': [{'id': 666033409081393153, 'id_str'...             123   \n",
       "3  {'media': [{'id': 666044217047650304, 'id_str'...             293   \n",
       "4  {'media': [{'id': 666049244999131136, 'id_str'...             107   \n",
       "\n",
       "   favorited                                          full_text  geo  \\\n",
       "0      False  Here we have a Japanese Irish Setter. Lost eye...  NaN   \n",
       "1      False  This is a western brown Mitsubishi terrier. Up...  NaN   \n",
       "2      False  Here is a very happy pup. Big fan of well-main...  NaN   \n",
       "3      False  This is a purebred Piers Morgan. Loves to Netf...  NaN   \n",
       "4      False  Here we have a 1949 1st generation vulpix. Enj...  NaN   \n",
       "\n",
       "                         ...                          lang  place  \\\n",
       "0                        ...                            en   None   \n",
       "1                        ...                            en   None   \n",
       "2                        ...                            en   None   \n",
       "3                        ...                            en   None   \n",
       "4                        ...                            en   None   \n",
       "\n",
       "  possibly_sensitive  possibly_sensitive_appealable  retweet_count  retweeted  \\\n",
       "0              False                          False            502      False   \n",
       "1              False                          False             47      False   \n",
       "2              False                          False             43      False   \n",
       "3              False                          False            139      False   \n",
       "4              False                          False             41      False   \n",
       "\n",
       "   retweeted_status                                             source  \\\n",
       "0               NaN  <a href=\"http://twitter.com/download/iphone\" r...   \n",
       "1               NaN  <a href=\"http://twitter.com/download/iphone\" r...   \n",
       "2               NaN  <a href=\"http://twitter.com/download/iphone\" r...   \n",
       "3               NaN  <a href=\"http://twitter.com/download/iphone\" r...   \n",
       "4               NaN  <a href=\"http://twitter.com/download/iphone\" r...   \n",
       "\n",
       "  truncated                                               user  \n",
       "0     False  {'id': 4196983835, 'id_str': '4196983835', 'na...  \n",
       "1     False  {'id': 4196983835, 'id_str': '4196983835', 'na...  \n",
       "2     False  {'id': 4196983835, 'id_str': '4196983835', 'na...  \n",
       "3     False  {'id': 4196983835, 'id_str': '4196983835', 'na...  \n",
       "4     False  {'id': 4196983835, 'id_str': '4196983835', 'na...  \n",
       "\n",
       "[5 rows x 28 columns]"
      ]
     },
     "execution_count": 26,
     "metadata": {},
     "output_type": "execute_result"
    }
   ],
   "source": [
    "df_tweet.head(n=5)"
   ]
  },
  {
   "cell_type": "code",
   "execution_count": 27,
   "metadata": {},
   "outputs": [
    {
     "name": "stdout",
     "output_type": "stream",
     "text": [
      "<class 'pandas.core.frame.DataFrame'>\n",
      "Int64Index: 2067 entries, 0 to 2066\n",
      "Data columns (total 28 columns):\n",
      "contributors                     0 non-null float64\n",
      "coordinates                      0 non-null float64\n",
      "created_at                       2067 non-null datetime64[ns]\n",
      "display_text_range               2067 non-null object\n",
      "entities                         2067 non-null object\n",
      "extended_entities                2067 non-null object\n",
      "favorite_count                   2067 non-null int64\n",
      "favorited                        2067 non-null bool\n",
      "full_text                        2067 non-null object\n",
      "geo                              0 non-null float64\n",
      "id                               2067 non-null int64\n",
      "id_str                           2067 non-null int64\n",
      "in_reply_to_screen_name          23 non-null object\n",
      "in_reply_to_status_id            23 non-null float64\n",
      "in_reply_to_status_id_str        23 non-null float64\n",
      "in_reply_to_user_id              23 non-null float64\n",
      "in_reply_to_user_id_str          23 non-null float64\n",
      "is_quote_status                  2067 non-null bool\n",
      "lang                             2067 non-null object\n",
      "place                            1 non-null object\n",
      "possibly_sensitive               2067 non-null bool\n",
      "possibly_sensitive_appealable    2067 non-null bool\n",
      "retweet_count                    2067 non-null int64\n",
      "retweeted                        2067 non-null bool\n",
      "retweeted_status                 75 non-null object\n",
      "source                           2067 non-null object\n",
      "truncated                        2067 non-null bool\n",
      "user                             2067 non-null object\n",
      "dtypes: bool(6), datetime64[ns](1), float64(7), int64(4), object(10)\n",
      "memory usage: 383.5+ KB\n"
     ]
    }
   ],
   "source": [
    "df_tweet.info()"
   ]
  },
  {
   "cell_type": "code",
   "execution_count": 28,
   "metadata": {},
   "outputs": [
    {
     "data": {
      "text/plain": [
       "False    2067\n",
       "Name: favorited, dtype: int64"
      ]
     },
     "execution_count": 28,
     "metadata": {},
     "output_type": "execute_result"
    }
   ],
   "source": [
    "df_tweet.favorited.value_counts()"
   ]
  },
  {
   "cell_type": "code",
   "execution_count": 29,
   "metadata": {},
   "outputs": [
    {
     "data": {
      "text/plain": [
       "False    2067\n",
       "Name: is_quote_status, dtype: int64"
      ]
     },
     "execution_count": 29,
     "metadata": {},
     "output_type": "execute_result"
    }
   ],
   "source": [
    "df_tweet.is_quote_status.value_counts()"
   ]
  },
  {
   "cell_type": "code",
   "execution_count": 30,
   "metadata": {},
   "outputs": [
    {
     "data": {
      "text/plain": [
       "False    2067\n",
       "Name: possibly_sensitive, dtype: int64"
      ]
     },
     "execution_count": 30,
     "metadata": {},
     "output_type": "execute_result"
    }
   ],
   "source": [
    "df_tweet.possibly_sensitive.value_counts()"
   ]
  },
  {
   "cell_type": "code",
   "execution_count": 31,
   "metadata": {},
   "outputs": [
    {
     "data": {
      "text/plain": [
       "False    2067\n",
       "Name: possibly_sensitive_appealable, dtype: int64"
      ]
     },
     "execution_count": 31,
     "metadata": {},
     "output_type": "execute_result"
    }
   ],
   "source": [
    "df_tweet.possibly_sensitive_appealable.value_counts()"
   ]
  },
  {
   "cell_type": "code",
   "execution_count": 32,
   "metadata": {},
   "outputs": [
    {
     "data": {
      "text/plain": [
       "False    2067\n",
       "Name: retweeted, dtype: int64"
      ]
     },
     "execution_count": 32,
     "metadata": {},
     "output_type": "execute_result"
    }
   ],
   "source": [
    "df_tweet.retweeted.value_counts()"
   ]
  },
  {
   "cell_type": "code",
   "execution_count": 33,
   "metadata": {},
   "outputs": [
    {
     "data": {
      "text/plain": [
       "False    2067\n",
       "Name: truncated, dtype: int64"
      ]
     },
     "execution_count": 33,
     "metadata": {},
     "output_type": "execute_result"
    }
   ],
   "source": [
    "df_tweet.truncated.value_counts()"
   ]
  },
  {
   "cell_type": "code",
   "execution_count": 34,
   "metadata": {},
   "outputs": [
    {
     "name": "stdout",
     "output_type": "stream",
     "text": [
      "<class 'pandas.core.frame.DataFrame'>\n",
      "Int64Index: 2067 entries, 0 to 2066\n",
      "Data columns (total 28 columns):\n",
      "contributors                     0 non-null float64\n",
      "coordinates                      0 non-null float64\n",
      "created_at                       2067 non-null datetime64[ns]\n",
      "display_text_range               2067 non-null object\n",
      "entities                         2067 non-null object\n",
      "extended_entities                2067 non-null object\n",
      "favorite_count                   2067 non-null int64\n",
      "favorited                        2067 non-null bool\n",
      "full_text                        2067 non-null object\n",
      "geo                              0 non-null float64\n",
      "id                               2067 non-null int64\n",
      "id_str                           2067 non-null int64\n",
      "in_reply_to_screen_name          23 non-null object\n",
      "in_reply_to_status_id            23 non-null float64\n",
      "in_reply_to_status_id_str        23 non-null float64\n",
      "in_reply_to_user_id              23 non-null float64\n",
      "in_reply_to_user_id_str          23 non-null float64\n",
      "is_quote_status                  2067 non-null bool\n",
      "lang                             2067 non-null object\n",
      "place                            1 non-null object\n",
      "possibly_sensitive               2067 non-null bool\n",
      "possibly_sensitive_appealable    2067 non-null bool\n",
      "retweet_count                    2067 non-null int64\n",
      "retweeted                        2067 non-null bool\n",
      "retweeted_status                 75 non-null object\n",
      "source                           2067 non-null object\n",
      "truncated                        2067 non-null bool\n",
      "user                             2067 non-null object\n",
      "dtypes: bool(6), datetime64[ns](1), float64(7), int64(4), object(10)\n",
      "memory usage: 383.5+ KB\n"
     ]
    }
   ],
   "source": [
    "df_tweet.info()"
   ]
  },
  {
   "cell_type": "code",
   "execution_count": 35,
   "metadata": {},
   "outputs": [
    {
     "data": {
      "text/html": [
       "<div>\n",
       "<style>\n",
       "    .dataframe thead tr:only-child th {\n",
       "        text-align: right;\n",
       "    }\n",
       "\n",
       "    .dataframe thead th {\n",
       "        text-align: left;\n",
       "    }\n",
       "\n",
       "    .dataframe tbody tr th {\n",
       "        vertical-align: top;\n",
       "    }\n",
       "</style>\n",
       "<table border=\"1\" class=\"dataframe\">\n",
       "  <thead>\n",
       "    <tr style=\"text-align: right;\">\n",
       "      <th></th>\n",
       "      <th>contributors</th>\n",
       "      <th>coordinates</th>\n",
       "      <th>favorite_count</th>\n",
       "      <th>geo</th>\n",
       "      <th>id</th>\n",
       "      <th>id_str</th>\n",
       "      <th>in_reply_to_status_id</th>\n",
       "      <th>in_reply_to_status_id_str</th>\n",
       "      <th>in_reply_to_user_id</th>\n",
       "      <th>in_reply_to_user_id_str</th>\n",
       "      <th>retweet_count</th>\n",
       "    </tr>\n",
       "  </thead>\n",
       "  <tbody>\n",
       "    <tr>\n",
       "      <th>count</th>\n",
       "      <td>0.0</td>\n",
       "      <td>0.0</td>\n",
       "      <td>2067.000000</td>\n",
       "      <td>0.0</td>\n",
       "      <td>2.067000e+03</td>\n",
       "      <td>2.067000e+03</td>\n",
       "      <td>2.300000e+01</td>\n",
       "      <td>2.300000e+01</td>\n",
       "      <td>2.300000e+01</td>\n",
       "      <td>2.300000e+01</td>\n",
       "      <td>2067.000000</td>\n",
       "    </tr>\n",
       "    <tr>\n",
       "      <th>mean</th>\n",
       "      <td>NaN</td>\n",
       "      <td>NaN</td>\n",
       "      <td>8413.056120</td>\n",
       "      <td>NaN</td>\n",
       "      <td>7.381455e+17</td>\n",
       "      <td>7.381455e+17</td>\n",
       "      <td>6.978112e+17</td>\n",
       "      <td>6.978112e+17</td>\n",
       "      <td>4.196984e+09</td>\n",
       "      <td>4.196984e+09</td>\n",
       "      <td>2802.655539</td>\n",
       "    </tr>\n",
       "    <tr>\n",
       "      <th>std</th>\n",
       "      <td>NaN</td>\n",
       "      <td>NaN</td>\n",
       "      <td>12673.926371</td>\n",
       "      <td>NaN</td>\n",
       "      <td>6.768193e+16</td>\n",
       "      <td>6.768193e+16</td>\n",
       "      <td>4.359384e+16</td>\n",
       "      <td>4.359384e+16</td>\n",
       "      <td>0.000000e+00</td>\n",
       "      <td>0.000000e+00</td>\n",
       "      <td>4876.792534</td>\n",
       "    </tr>\n",
       "    <tr>\n",
       "      <th>min</th>\n",
       "      <td>NaN</td>\n",
       "      <td>NaN</td>\n",
       "      <td>0.000000</td>\n",
       "      <td>NaN</td>\n",
       "      <td>6.660209e+17</td>\n",
       "      <td>6.660209e+17</td>\n",
       "      <td>6.671522e+17</td>\n",
       "      <td>6.671522e+17</td>\n",
       "      <td>4.196984e+09</td>\n",
       "      <td>4.196984e+09</td>\n",
       "      <td>12.000000</td>\n",
       "    </tr>\n",
       "    <tr>\n",
       "      <th>25%</th>\n",
       "      <td>NaN</td>\n",
       "      <td>NaN</td>\n",
       "      <td>1600.000000</td>\n",
       "      <td>NaN</td>\n",
       "      <td>6.764355e+17</td>\n",
       "      <td>6.764355e+17</td>\n",
       "      <td>6.732411e+17</td>\n",
       "      <td>6.732411e+17</td>\n",
       "      <td>4.196984e+09</td>\n",
       "      <td>4.196984e+09</td>\n",
       "      <td>596.500000</td>\n",
       "    </tr>\n",
       "    <tr>\n",
       "      <th>50%</th>\n",
       "      <td>NaN</td>\n",
       "      <td>NaN</td>\n",
       "      <td>3696.000000</td>\n",
       "      <td>NaN</td>\n",
       "      <td>7.117327e+17</td>\n",
       "      <td>7.117327e+17</td>\n",
       "      <td>6.757073e+17</td>\n",
       "      <td>6.757073e+17</td>\n",
       "      <td>4.196984e+09</td>\n",
       "      <td>4.196984e+09</td>\n",
       "      <td>1321.000000</td>\n",
       "    </tr>\n",
       "    <tr>\n",
       "      <th>75%</th>\n",
       "      <td>NaN</td>\n",
       "      <td>NaN</td>\n",
       "      <td>10519.000000</td>\n",
       "      <td>NaN</td>\n",
       "      <td>7.931430e+17</td>\n",
       "      <td>7.931430e+17</td>\n",
       "      <td>7.031489e+17</td>\n",
       "      <td>7.031489e+17</td>\n",
       "      <td>4.196984e+09</td>\n",
       "      <td>4.196984e+09</td>\n",
       "      <td>3232.000000</td>\n",
       "    </tr>\n",
       "    <tr>\n",
       "      <th>max</th>\n",
       "      <td>NaN</td>\n",
       "      <td>NaN</td>\n",
       "      <td>164299.000000</td>\n",
       "      <td>NaN</td>\n",
       "      <td>8.924206e+17</td>\n",
       "      <td>8.924206e+17</td>\n",
       "      <td>8.558181e+17</td>\n",
       "      <td>8.558181e+17</td>\n",
       "      <td>4.196984e+09</td>\n",
       "      <td>4.196984e+09</td>\n",
       "      <td>83666.000000</td>\n",
       "    </tr>\n",
       "  </tbody>\n",
       "</table>\n",
       "</div>"
      ],
      "text/plain": [
       "       contributors  coordinates  favorite_count  geo            id  \\\n",
       "count           0.0          0.0     2067.000000  0.0  2.067000e+03   \n",
       "mean            NaN          NaN     8413.056120  NaN  7.381455e+17   \n",
       "std             NaN          NaN    12673.926371  NaN  6.768193e+16   \n",
       "min             NaN          NaN        0.000000  NaN  6.660209e+17   \n",
       "25%             NaN          NaN     1600.000000  NaN  6.764355e+17   \n",
       "50%             NaN          NaN     3696.000000  NaN  7.117327e+17   \n",
       "75%             NaN          NaN    10519.000000  NaN  7.931430e+17   \n",
       "max             NaN          NaN   164299.000000  NaN  8.924206e+17   \n",
       "\n",
       "             id_str  in_reply_to_status_id  in_reply_to_status_id_str  \\\n",
       "count  2.067000e+03           2.300000e+01               2.300000e+01   \n",
       "mean   7.381455e+17           6.978112e+17               6.978112e+17   \n",
       "std    6.768193e+16           4.359384e+16               4.359384e+16   \n",
       "min    6.660209e+17           6.671522e+17               6.671522e+17   \n",
       "25%    6.764355e+17           6.732411e+17               6.732411e+17   \n",
       "50%    7.117327e+17           6.757073e+17               6.757073e+17   \n",
       "75%    7.931430e+17           7.031489e+17               7.031489e+17   \n",
       "max    8.924206e+17           8.558181e+17               8.558181e+17   \n",
       "\n",
       "       in_reply_to_user_id  in_reply_to_user_id_str  retweet_count  \n",
       "count         2.300000e+01             2.300000e+01    2067.000000  \n",
       "mean          4.196984e+09             4.196984e+09    2802.655539  \n",
       "std           0.000000e+00             0.000000e+00    4876.792534  \n",
       "min           4.196984e+09             4.196984e+09      12.000000  \n",
       "25%           4.196984e+09             4.196984e+09     596.500000  \n",
       "50%           4.196984e+09             4.196984e+09    1321.000000  \n",
       "75%           4.196984e+09             4.196984e+09    3232.000000  \n",
       "max           4.196984e+09             4.196984e+09   83666.000000  "
      ]
     },
     "execution_count": 35,
     "metadata": {},
     "output_type": "execute_result"
    }
   ],
   "source": [
    "df_tweet.describe()"
   ]
  },
  {
   "cell_type": "markdown",
   "metadata": {},
   "source": [
    "### Issues - Quality"
   ]
  },
  {
   "cell_type": "markdown",
   "metadata": {},
   "source": [
    "1. *df_archive*: in_reply_to_status_id, in_reply_to_user_id: to few values and will therefore not provide enough information\n",
    "2. *df_archive*: source contains html tags\n",
    "3. *df_archive*: retweeted_status_id, retweeted_status_user_id, retweeted_status_timestamp to few values and will therefore not provide enough information\n",
    "4. *df_image* contains rows without dogs.\n",
    "\n",
    "5. *df_tweet*: contributors, coordinates, geo: columns are all empty and are obsolete\n",
    "6. *df_tweet*: favorited, is_quote_status, possibly_sensitive, possibly_sensitive_appealable, retweeted, truncated: all values are False and provide therefore no viable information\n",
    "7. *df_tweet*: source: containts html tag and is furthermore a duplicate and therefore obsolete\n",
    "8. *df_tweet*: in_reply_to_screen_name, in_reply_to_status_id, in_reply_to_status_id_str, in_reply_to_user_id, in_reply_to_user_id_str, place, retweeted_status: contain very few entries and provide not helpful information\n",
    "\n",
    "9. *df_tweet*: display_text_range, entities, extended_entities, user: seem to be of no use\n",
    "10. the number of tweets in each dataframe differ from each other."
   ]
  },
  {
   "cell_type": "markdown",
   "metadata": {},
   "source": [
    "### Issues - Tidiness"
   ]
  },
  {
   "cell_type": "markdown",
   "metadata": {},
   "source": [
    "1. *df_archive*: contains information about the type of dog in four columns (doggo, floofer, pupper, puppo).\n",
    "2. *df_image*: contains 3x2 rows with duplicate information (p1, p1_dog, p2, p2_dog, p3, p3_dog)\n",
    "3. *df_tweet*: colums id and id_str are identical"
   ]
  },
  {
   "cell_type": "markdown",
   "metadata": {},
   "source": [
    "## Clean"
   ]
  },
  {
   "cell_type": "code",
   "execution_count": 36,
   "metadata": {},
   "outputs": [],
   "source": [
    "# making copies of the initial dataframes\n",
    "df_archive_clean = df_archive.copy()\n",
    "df_image_clean = df_image.copy()\n",
    "df_tweet_clean = df_tweet.copy()"
   ]
  },
  {
   "cell_type": "markdown",
   "metadata": {},
   "source": [
    "### Cleaning Quality issue 1"
   ]
  },
  {
   "cell_type": "code",
   "execution_count": 37,
   "metadata": {},
   "outputs": [],
   "source": [
    "# dataframe: df_archive_clean\n",
    "# dropping the columns in_reply_to_status_id, in_reply_to_user_id\n",
    "df_archive_clean = df_archive_clean.drop(['in_reply_to_status_id', 'in_reply_to_user_id'], axis=1)"
   ]
  },
  {
   "cell_type": "code",
   "execution_count": 38,
   "metadata": {},
   "outputs": [
    {
     "data": {
      "text/plain": [
       "15"
      ]
     },
     "execution_count": 38,
     "metadata": {},
     "output_type": "execute_result"
    }
   ],
   "source": [
    "# checking number of columns (last count: 17)\n",
    "df_archive_clean.shape[1]"
   ]
  },
  {
   "cell_type": "markdown",
   "metadata": {},
   "source": [
    "### Cleaning Quality issue 2"
   ]
  },
  {
   "cell_type": "code",
   "execution_count": 39,
   "metadata": {},
   "outputs": [
    {
     "data": {
      "text/plain": [
       "<a href=\"http://twitter.com/download/iphone\" rel=\"nofollow\">Twitter for iPhone</a>     2221\n",
       "<a href=\"http://vine.co\" rel=\"nofollow\">Vine - Make a Scene</a>                          91\n",
       "<a href=\"http://twitter.com\" rel=\"nofollow\">Twitter Web Client</a>                       33\n",
       "<a href=\"https://about.twitter.com/products/tweetdeck\" rel=\"nofollow\">TweetDeck</a>      11\n",
       "Name: source, dtype: int64"
      ]
     },
     "execution_count": 39,
     "metadata": {},
     "output_type": "execute_result"
    }
   ],
   "source": [
    "# dataframe: df_archive_clean\n",
    "# extracting the value of column source\n",
    "df_archive_clean.source.value_counts()"
   ]
  },
  {
   "cell_type": "code",
   "execution_count": 40,
   "metadata": {},
   "outputs": [],
   "source": [
    "df_archive_clean.source = df_archive_clean.source.apply(lambda x: str(x[x.find(\">\")+1:x.find(\"/a>\")-1]))"
   ]
  },
  {
   "cell_type": "code",
   "execution_count": 41,
   "metadata": {},
   "outputs": [
    {
     "data": {
      "text/plain": [
       "Twitter for iPhone     2221\n",
       "Vine - Make a Scene      91\n",
       "Twitter Web Client       33\n",
       "TweetDeck                11\n",
       "Name: source, dtype: int64"
      ]
     },
     "execution_count": 41,
     "metadata": {},
     "output_type": "execute_result"
    }
   ],
   "source": [
    "df_archive_clean.source.value_counts()"
   ]
  },
  {
   "cell_type": "markdown",
   "metadata": {},
   "source": [
    "### Cleaning Quality issue 3"
   ]
  },
  {
   "cell_type": "code",
   "execution_count": 42,
   "metadata": {},
   "outputs": [],
   "source": [
    "# dataframe: df_archive_clean\n",
    "# dropping the columns retweeted_status_id, retweeted_status_user_id, retweeted_status_timestamp\n",
    "df_archive_clean = df_archive_clean.drop(['retweeted_status_id', 'retweeted_status_user_id', \n",
    "                                          'retweeted_status_timestamp'], axis=1)"
   ]
  },
  {
   "cell_type": "code",
   "execution_count": 43,
   "metadata": {},
   "outputs": [
    {
     "data": {
      "text/plain": [
       "12"
      ]
     },
     "execution_count": 43,
     "metadata": {},
     "output_type": "execute_result"
    }
   ],
   "source": [
    "# checking number of columns (last count: 15)\n",
    "df_archive_clean.shape[1]"
   ]
  },
  {
   "cell_type": "markdown",
   "metadata": {},
   "source": [
    "### Cleaning Quality issue 4"
   ]
  },
  {
   "cell_type": "code",
   "execution_count": 44,
   "metadata": {},
   "outputs": [],
   "source": [
    "# dataframe: df_image_clean\n",
    "# dropping rows where there are no dogs\n",
    "df_image_clean = df_image_clean.drop(df_image_clean[(df_image_clean.p1_dog == False) & \n",
    "                                      (df_image_clean.p2_dog == False) & \n",
    "                                      (df_image_clean.p3_dog == False)].index, axis=0)"
   ]
  },
  {
   "cell_type": "code",
   "execution_count": 45,
   "metadata": {},
   "outputs": [
    {
     "data": {
      "text/plain": [
       "1751"
      ]
     },
     "execution_count": 45,
     "metadata": {},
     "output_type": "execute_result"
    }
   ],
   "source": [
    "# checking number of rows (last count: 2075)\n",
    "df_image_clean.shape[0]"
   ]
  },
  {
   "cell_type": "markdown",
   "metadata": {},
   "source": [
    "### Cleaning Quality issue 5"
   ]
  },
  {
   "cell_type": "code",
   "execution_count": 46,
   "metadata": {},
   "outputs": [],
   "source": [
    "# dataframe: df_tweet_clean\n",
    "# dropping the columns contributors, coordinates, geo\n",
    "df_tweet_clean = df_tweet_clean.drop(['contributors', 'coordinates', 'geo'], axis=1)"
   ]
  },
  {
   "cell_type": "code",
   "execution_count": 47,
   "metadata": {},
   "outputs": [
    {
     "data": {
      "text/plain": [
       "25"
      ]
     },
     "execution_count": 47,
     "metadata": {},
     "output_type": "execute_result"
    }
   ],
   "source": [
    "# checking number of columns (last count: 28)\n",
    "df_tweet_clean.shape[1]"
   ]
  },
  {
   "cell_type": "markdown",
   "metadata": {},
   "source": [
    "### Cleaning Quality issue 6"
   ]
  },
  {
   "cell_type": "code",
   "execution_count": 48,
   "metadata": {},
   "outputs": [],
   "source": [
    "# dataframe: df_tweet_clean\n",
    "# dropping the columns favorited, is_quote_status, possibly_sensitive, possibly_sensitive_appealable, retweeted, truncated \n",
    "df_tweet_clean = df_tweet_clean.drop(['favorited', 'is_quote_status', 'possibly_sensitive', \n",
    "                                      'possibly_sensitive_appealable', 'retweeted', 'truncated'], axis=1)"
   ]
  },
  {
   "cell_type": "code",
   "execution_count": 49,
   "metadata": {},
   "outputs": [
    {
     "data": {
      "text/plain": [
       "19"
      ]
     },
     "execution_count": 49,
     "metadata": {},
     "output_type": "execute_result"
    }
   ],
   "source": [
    "# checking number of columns (last count: 25)\n",
    "df_tweet_clean.shape[1]"
   ]
  },
  {
   "cell_type": "markdown",
   "metadata": {},
   "source": [
    "### Cleaning Quality issue 7"
   ]
  },
  {
   "cell_type": "code",
   "execution_count": 50,
   "metadata": {},
   "outputs": [],
   "source": [
    "# dataframe: df_tweet_clean\n",
    "# dropping column source\n",
    "df_tweet_clean = df_tweet_clean.drop(['source'], axis=1)"
   ]
  },
  {
   "cell_type": "code",
   "execution_count": 51,
   "metadata": {},
   "outputs": [
    {
     "data": {
      "text/plain": [
       "18"
      ]
     },
     "execution_count": 51,
     "metadata": {},
     "output_type": "execute_result"
    }
   ],
   "source": [
    "# checking number of columns (last count: 19)\n",
    "df_tweet_clean.shape[1]"
   ]
  },
  {
   "cell_type": "markdown",
   "metadata": {},
   "source": [
    "### Cleaning Quality issue 8"
   ]
  },
  {
   "cell_type": "code",
   "execution_count": 52,
   "metadata": {},
   "outputs": [],
   "source": [
    "# dataframe: df_tweet_clean\n",
    "# dropping the columns: in_reply_to_screen_name, in_reply_to_status_id, in_reply_to_status_id_str, in_reply_to_user_id, in_reply_to_user_id_str, place, retweeted_status\n",
    "df_tweet_clean = df_tweet_clean.drop(['in_reply_to_screen_name', 'in_reply_to_status_id', \n",
    "                                      'in_reply_to_status_id_str', 'in_reply_to_user_id', \n",
    "                                      'in_reply_to_user_id_str', 'place', 'retweeted_status'], axis=1)"
   ]
  },
  {
   "cell_type": "code",
   "execution_count": 53,
   "metadata": {},
   "outputs": [
    {
     "data": {
      "text/plain": [
       "11"
      ]
     },
     "execution_count": 53,
     "metadata": {},
     "output_type": "execute_result"
    }
   ],
   "source": [
    "# checking number of columns (last count: 18)\n",
    "df_tweet_clean.shape[1]"
   ]
  },
  {
   "cell_type": "markdown",
   "metadata": {},
   "source": [
    "### Cleaning Quality issue 9"
   ]
  },
  {
   "cell_type": "code",
   "execution_count": 54,
   "metadata": {},
   "outputs": [],
   "source": [
    "# dataframe: df_tweet_clean\n",
    "# dropping the columns: display_text_range, entities, extended_entities, user\n",
    "df_tweet_clean = df_tweet_clean.drop(['display_text_range', 'entities', 'extended_entities', 'user'], axis=1)"
   ]
  },
  {
   "cell_type": "code",
   "execution_count": 55,
   "metadata": {},
   "outputs": [
    {
     "data": {
      "text/plain": [
       "7"
      ]
     },
     "execution_count": 55,
     "metadata": {},
     "output_type": "execute_result"
    }
   ],
   "source": [
    "# checking number of columns (last count: 11)\n",
    "df_tweet_clean.shape[1]"
   ]
  },
  {
   "cell_type": "markdown",
   "metadata": {},
   "source": [
    "### Cleaning Tidiness issue 1"
   ]
  },
  {
   "cell_type": "code",
   "execution_count": 56,
   "metadata": {},
   "outputs": [],
   "source": [
    "# dataframe: df_archive_clean\n",
    "# contains information about the type of dog in four columns (doggo, floofer, pupper, puppo).\n",
    "multiple_dogs = (list(df_archive_clean[df_archive_clean.doggo == 'doggo'].index) + \n",
    "                 list(df_archive_clean[df_archive_clean.floofer == 'floofer'].index) + \n",
    "                 list(df_archive_clean[df_archive_clean.pupper == 'pupper'].index) +\n",
    "                 list(df_archive_clean[df_archive_clean.puppo == 'puppo'].index))"
   ]
  },
  {
   "cell_type": "code",
   "execution_count": 57,
   "metadata": {},
   "outputs": [],
   "source": [
    "# iterating over the list containing index numbers where multiple dogs are in a row\n",
    "# and creating a dictionary \n",
    "duplicate_entries = dict()\n",
    "for x in multiple_dogs:\n",
    "    duplicate_entries[x] = duplicate_entries.get(x, 0) + 1\n",
    "\n",
    "# iterating over the dictionary duplicate_entries and appending the keys (indexes) to a list\n",
    "rows_to_drop = []\n",
    "for k, v in duplicate_entries.items():\n",
    "    if v > 1:\n",
    "        rows_to_drop.append(k)\n"
   ]
  },
  {
   "cell_type": "code",
   "execution_count": 58,
   "metadata": {},
   "outputs": [
    {
     "data": {
      "text/plain": [
       "14"
      ]
     },
     "execution_count": 58,
     "metadata": {},
     "output_type": "execute_result"
    }
   ],
   "source": [
    "# number of columns to drop in df_archive_clean\n",
    "len(rows_to_drop)"
   ]
  },
  {
   "cell_type": "code",
   "execution_count": 59,
   "metadata": {},
   "outputs": [],
   "source": [
    "# dropping the rows\n",
    "df_archive_clean = df_archive_clean.drop(df_archive_clean.index[rows_to_drop], axis=0)"
   ]
  },
  {
   "cell_type": "code",
   "execution_count": 60,
   "metadata": {},
   "outputs": [
    {
     "data": {
      "text/plain": [
       "(2342, 12)"
      ]
     },
     "execution_count": 60,
     "metadata": {},
     "output_type": "execute_result"
    }
   ],
   "source": [
    "# comparing the shapes (initial row count was: 2356)\n",
    "df_archive_clean.shape"
   ]
  },
  {
   "cell_type": "code",
   "execution_count": 61,
   "metadata": {},
   "outputs": [],
   "source": [
    "# creating a new column 'type_of_dogs' and filling it depending on the contents of the rows doggo, floofer, pupper, puppo, None\n",
    "df_archive_clean['type_of_dog'] = df_archive_clean.apply(lambda x: 'doggo' if x.doggo == 'doggo' \n",
    "                                                           else 'floofer' if x.floofer == 'floofer' \n",
    "                                                           else 'pupper' if x.pupper == 'pupper' \n",
    "                                                           else 'puppo' if x.puppo == 'puppo' \n",
    "                                                           else 'None', axis=1)\n",
    "\n",
    "# dropping unnecessary rows \n",
    "df_archive_clean = df_archive_clean.drop(['doggo', 'floofer', 'pupper', 'puppo'], axis=1)"
   ]
  },
  {
   "cell_type": "code",
   "execution_count": 62,
   "metadata": {},
   "outputs": [
    {
     "data": {
      "text/plain": [
       "(2342, 9)"
      ]
     },
     "execution_count": 62,
     "metadata": {},
     "output_type": "execute_result"
    }
   ],
   "source": [
    "# comparing the shapes (previous column count was: 12)\n",
    "df_archive_clean.shape"
   ]
  },
  {
   "cell_type": "markdown",
   "metadata": {},
   "source": [
    "### Cleaning Tidiness issue 2"
   ]
  },
  {
   "cell_type": "code",
   "execution_count": 63,
   "metadata": {},
   "outputs": [],
   "source": [
    "# dataframe: df_image_clean\n",
    "# contains 3x2 rows with duplicate information (p1, p1_dog, p2, p2_dog, p3, p3_dog)\n",
    "df_image_clean['prediction'] = df_image_clean.apply( lambda x: 'dogs' if (x.p1_dog == True) & (x.p2_dog == True) & (x.p3_dog == True) \n",
    "                                                      else 'no_dogs' if (x.p1_dog == False) & (x.p2_dog == False) & (x.p3_dog == False)\n",
    "                                                      else 'mixed', axis=1)\n",
    "\n"
   ]
  },
  {
   "cell_type": "code",
   "execution_count": 64,
   "metadata": {},
   "outputs": [
    {
     "data": {
      "text/html": [
       "<div>\n",
       "<style>\n",
       "    .dataframe thead tr:only-child th {\n",
       "        text-align: right;\n",
       "    }\n",
       "\n",
       "    .dataframe thead th {\n",
       "        text-align: left;\n",
       "    }\n",
       "\n",
       "    .dataframe tbody tr th {\n",
       "        vertical-align: top;\n",
       "    }\n",
       "</style>\n",
       "<table border=\"1\" class=\"dataframe\">\n",
       "  <thead>\n",
       "    <tr style=\"text-align: right;\">\n",
       "      <th></th>\n",
       "      <th>tweet_id</th>\n",
       "      <th>jpg_url</th>\n",
       "      <th>img_num</th>\n",
       "      <th>p1</th>\n",
       "      <th>p1_conf</th>\n",
       "      <th>p1_dog</th>\n",
       "      <th>p2</th>\n",
       "      <th>p2_conf</th>\n",
       "      <th>p2_dog</th>\n",
       "      <th>p3</th>\n",
       "      <th>p3_conf</th>\n",
       "      <th>p3_dog</th>\n",
       "      <th>prediction</th>\n",
       "    </tr>\n",
       "  </thead>\n",
       "  <tbody>\n",
       "    <tr>\n",
       "      <th>0</th>\n",
       "      <td>666020888022790149</td>\n",
       "      <td>https://pbs.twimg.com/media/CT4udn0WwAA0aMy.jpg</td>\n",
       "      <td>1</td>\n",
       "      <td>Welsh_springer_spaniel</td>\n",
       "      <td>0.465074</td>\n",
       "      <td>True</td>\n",
       "      <td>collie</td>\n",
       "      <td>0.156665</td>\n",
       "      <td>True</td>\n",
       "      <td>Shetland_sheepdog</td>\n",
       "      <td>0.061428</td>\n",
       "      <td>True</td>\n",
       "      <td>dogs</td>\n",
       "    </tr>\n",
       "    <tr>\n",
       "      <th>1</th>\n",
       "      <td>666029285002620928</td>\n",
       "      <td>https://pbs.twimg.com/media/CT42GRgUYAA5iDo.jpg</td>\n",
       "      <td>1</td>\n",
       "      <td>redbone</td>\n",
       "      <td>0.506826</td>\n",
       "      <td>True</td>\n",
       "      <td>miniature_pinscher</td>\n",
       "      <td>0.074192</td>\n",
       "      <td>True</td>\n",
       "      <td>Rhodesian_ridgeback</td>\n",
       "      <td>0.072010</td>\n",
       "      <td>True</td>\n",
       "      <td>dogs</td>\n",
       "    </tr>\n",
       "    <tr>\n",
       "      <th>2</th>\n",
       "      <td>666033412701032449</td>\n",
       "      <td>https://pbs.twimg.com/media/CT4521TWwAEvMyu.jpg</td>\n",
       "      <td>1</td>\n",
       "      <td>German_shepherd</td>\n",
       "      <td>0.596461</td>\n",
       "      <td>True</td>\n",
       "      <td>malinois</td>\n",
       "      <td>0.138584</td>\n",
       "      <td>True</td>\n",
       "      <td>bloodhound</td>\n",
       "      <td>0.116197</td>\n",
       "      <td>True</td>\n",
       "      <td>dogs</td>\n",
       "    </tr>\n",
       "    <tr>\n",
       "      <th>3</th>\n",
       "      <td>666044226329800704</td>\n",
       "      <td>https://pbs.twimg.com/media/CT5Dr8HUEAA-lEu.jpg</td>\n",
       "      <td>1</td>\n",
       "      <td>Rhodesian_ridgeback</td>\n",
       "      <td>0.408143</td>\n",
       "      <td>True</td>\n",
       "      <td>redbone</td>\n",
       "      <td>0.360687</td>\n",
       "      <td>True</td>\n",
       "      <td>miniature_pinscher</td>\n",
       "      <td>0.222752</td>\n",
       "      <td>True</td>\n",
       "      <td>dogs</td>\n",
       "    </tr>\n",
       "    <tr>\n",
       "      <th>4</th>\n",
       "      <td>666049248165822465</td>\n",
       "      <td>https://pbs.twimg.com/media/CT5IQmsXIAAKY4A.jpg</td>\n",
       "      <td>1</td>\n",
       "      <td>miniature_pinscher</td>\n",
       "      <td>0.560311</td>\n",
       "      <td>True</td>\n",
       "      <td>Rottweiler</td>\n",
       "      <td>0.243682</td>\n",
       "      <td>True</td>\n",
       "      <td>Doberman</td>\n",
       "      <td>0.154629</td>\n",
       "      <td>True</td>\n",
       "      <td>dogs</td>\n",
       "    </tr>\n",
       "    <tr>\n",
       "      <th>5</th>\n",
       "      <td>666050758794694657</td>\n",
       "      <td>https://pbs.twimg.com/media/CT5Jof1WUAEuVxN.jpg</td>\n",
       "      <td>1</td>\n",
       "      <td>Bernese_mountain_dog</td>\n",
       "      <td>0.651137</td>\n",
       "      <td>True</td>\n",
       "      <td>English_springer</td>\n",
       "      <td>0.263788</td>\n",
       "      <td>True</td>\n",
       "      <td>Greater_Swiss_Mountain_dog</td>\n",
       "      <td>0.016199</td>\n",
       "      <td>True</td>\n",
       "      <td>dogs</td>\n",
       "    </tr>\n",
       "    <tr>\n",
       "      <th>7</th>\n",
       "      <td>666055525042405380</td>\n",
       "      <td>https://pbs.twimg.com/media/CT5N9tpXIAAifs1.jpg</td>\n",
       "      <td>1</td>\n",
       "      <td>chow</td>\n",
       "      <td>0.692517</td>\n",
       "      <td>True</td>\n",
       "      <td>Tibetan_mastiff</td>\n",
       "      <td>0.058279</td>\n",
       "      <td>True</td>\n",
       "      <td>fur_coat</td>\n",
       "      <td>0.054449</td>\n",
       "      <td>False</td>\n",
       "      <td>mixed</td>\n",
       "    </tr>\n",
       "    <tr>\n",
       "      <th>8</th>\n",
       "      <td>666057090499244032</td>\n",
       "      <td>https://pbs.twimg.com/media/CT5PY90WoAAQGLo.jpg</td>\n",
       "      <td>1</td>\n",
       "      <td>shopping_cart</td>\n",
       "      <td>0.962465</td>\n",
       "      <td>False</td>\n",
       "      <td>shopping_basket</td>\n",
       "      <td>0.014594</td>\n",
       "      <td>False</td>\n",
       "      <td>golden_retriever</td>\n",
       "      <td>0.007959</td>\n",
       "      <td>True</td>\n",
       "      <td>mixed</td>\n",
       "    </tr>\n",
       "    <tr>\n",
       "      <th>9</th>\n",
       "      <td>666058600524156928</td>\n",
       "      <td>https://pbs.twimg.com/media/CT5Qw94XAAA_2dP.jpg</td>\n",
       "      <td>1</td>\n",
       "      <td>miniature_poodle</td>\n",
       "      <td>0.201493</td>\n",
       "      <td>True</td>\n",
       "      <td>komondor</td>\n",
       "      <td>0.192305</td>\n",
       "      <td>True</td>\n",
       "      <td>soft-coated_wheaten_terrier</td>\n",
       "      <td>0.082086</td>\n",
       "      <td>True</td>\n",
       "      <td>dogs</td>\n",
       "    </tr>\n",
       "    <tr>\n",
       "      <th>10</th>\n",
       "      <td>666063827256086533</td>\n",
       "      <td>https://pbs.twimg.com/media/CT5Vg_wXIAAXfnj.jpg</td>\n",
       "      <td>1</td>\n",
       "      <td>golden_retriever</td>\n",
       "      <td>0.775930</td>\n",
       "      <td>True</td>\n",
       "      <td>Tibetan_mastiff</td>\n",
       "      <td>0.093718</td>\n",
       "      <td>True</td>\n",
       "      <td>Labrador_retriever</td>\n",
       "      <td>0.072427</td>\n",
       "      <td>True</td>\n",
       "      <td>dogs</td>\n",
       "    </tr>\n",
       "    <tr>\n",
       "      <th>11</th>\n",
       "      <td>666071193221509120</td>\n",
       "      <td>https://pbs.twimg.com/media/CT5cN_3WEAAlOoZ.jpg</td>\n",
       "      <td>1</td>\n",
       "      <td>Gordon_setter</td>\n",
       "      <td>0.503672</td>\n",
       "      <td>True</td>\n",
       "      <td>Yorkshire_terrier</td>\n",
       "      <td>0.174201</td>\n",
       "      <td>True</td>\n",
       "      <td>Pekinese</td>\n",
       "      <td>0.109454</td>\n",
       "      <td>True</td>\n",
       "      <td>dogs</td>\n",
       "    </tr>\n",
       "    <tr>\n",
       "      <th>12</th>\n",
       "      <td>666073100786774016</td>\n",
       "      <td>https://pbs.twimg.com/media/CT5d9DZXAAALcwe.jpg</td>\n",
       "      <td>1</td>\n",
       "      <td>Walker_hound</td>\n",
       "      <td>0.260857</td>\n",
       "      <td>True</td>\n",
       "      <td>English_foxhound</td>\n",
       "      <td>0.175382</td>\n",
       "      <td>True</td>\n",
       "      <td>Ibizan_hound</td>\n",
       "      <td>0.097471</td>\n",
       "      <td>True</td>\n",
       "      <td>dogs</td>\n",
       "    </tr>\n",
       "    <tr>\n",
       "      <th>13</th>\n",
       "      <td>666082916733198337</td>\n",
       "      <td>https://pbs.twimg.com/media/CT5m4VGWEAAtKc8.jpg</td>\n",
       "      <td>1</td>\n",
       "      <td>pug</td>\n",
       "      <td>0.489814</td>\n",
       "      <td>True</td>\n",
       "      <td>bull_mastiff</td>\n",
       "      <td>0.404722</td>\n",
       "      <td>True</td>\n",
       "      <td>French_bulldog</td>\n",
       "      <td>0.048960</td>\n",
       "      <td>True</td>\n",
       "      <td>dogs</td>\n",
       "    </tr>\n",
       "    <tr>\n",
       "      <th>14</th>\n",
       "      <td>666094000022159362</td>\n",
       "      <td>https://pbs.twimg.com/media/CT5w9gUW4AAsBNN.jpg</td>\n",
       "      <td>1</td>\n",
       "      <td>bloodhound</td>\n",
       "      <td>0.195217</td>\n",
       "      <td>True</td>\n",
       "      <td>German_shepherd</td>\n",
       "      <td>0.078260</td>\n",
       "      <td>True</td>\n",
       "      <td>malinois</td>\n",
       "      <td>0.075628</td>\n",
       "      <td>True</td>\n",
       "      <td>dogs</td>\n",
       "    </tr>\n",
       "    <tr>\n",
       "      <th>15</th>\n",
       "      <td>666099513787052032</td>\n",
       "      <td>https://pbs.twimg.com/media/CT51-JJUEAA6hV8.jpg</td>\n",
       "      <td>1</td>\n",
       "      <td>Lhasa</td>\n",
       "      <td>0.582330</td>\n",
       "      <td>True</td>\n",
       "      <td>Shih-Tzu</td>\n",
       "      <td>0.166192</td>\n",
       "      <td>True</td>\n",
       "      <td>Dandie_Dinmont</td>\n",
       "      <td>0.089688</td>\n",
       "      <td>True</td>\n",
       "      <td>dogs</td>\n",
       "    </tr>\n",
       "  </tbody>\n",
       "</table>\n",
       "</div>"
      ],
      "text/plain": [
       "              tweet_id                                          jpg_url  \\\n",
       "0   666020888022790149  https://pbs.twimg.com/media/CT4udn0WwAA0aMy.jpg   \n",
       "1   666029285002620928  https://pbs.twimg.com/media/CT42GRgUYAA5iDo.jpg   \n",
       "2   666033412701032449  https://pbs.twimg.com/media/CT4521TWwAEvMyu.jpg   \n",
       "3   666044226329800704  https://pbs.twimg.com/media/CT5Dr8HUEAA-lEu.jpg   \n",
       "4   666049248165822465  https://pbs.twimg.com/media/CT5IQmsXIAAKY4A.jpg   \n",
       "5   666050758794694657  https://pbs.twimg.com/media/CT5Jof1WUAEuVxN.jpg   \n",
       "7   666055525042405380  https://pbs.twimg.com/media/CT5N9tpXIAAifs1.jpg   \n",
       "8   666057090499244032  https://pbs.twimg.com/media/CT5PY90WoAAQGLo.jpg   \n",
       "9   666058600524156928  https://pbs.twimg.com/media/CT5Qw94XAAA_2dP.jpg   \n",
       "10  666063827256086533  https://pbs.twimg.com/media/CT5Vg_wXIAAXfnj.jpg   \n",
       "11  666071193221509120  https://pbs.twimg.com/media/CT5cN_3WEAAlOoZ.jpg   \n",
       "12  666073100786774016  https://pbs.twimg.com/media/CT5d9DZXAAALcwe.jpg   \n",
       "13  666082916733198337  https://pbs.twimg.com/media/CT5m4VGWEAAtKc8.jpg   \n",
       "14  666094000022159362  https://pbs.twimg.com/media/CT5w9gUW4AAsBNN.jpg   \n",
       "15  666099513787052032  https://pbs.twimg.com/media/CT51-JJUEAA6hV8.jpg   \n",
       "\n",
       "    img_num                      p1   p1_conf  p1_dog                  p2  \\\n",
       "0         1  Welsh_springer_spaniel  0.465074    True              collie   \n",
       "1         1                 redbone  0.506826    True  miniature_pinscher   \n",
       "2         1         German_shepherd  0.596461    True            malinois   \n",
       "3         1     Rhodesian_ridgeback  0.408143    True             redbone   \n",
       "4         1      miniature_pinscher  0.560311    True          Rottweiler   \n",
       "5         1    Bernese_mountain_dog  0.651137    True    English_springer   \n",
       "7         1                    chow  0.692517    True     Tibetan_mastiff   \n",
       "8         1           shopping_cart  0.962465   False     shopping_basket   \n",
       "9         1        miniature_poodle  0.201493    True            komondor   \n",
       "10        1        golden_retriever  0.775930    True     Tibetan_mastiff   \n",
       "11        1           Gordon_setter  0.503672    True   Yorkshire_terrier   \n",
       "12        1            Walker_hound  0.260857    True    English_foxhound   \n",
       "13        1                     pug  0.489814    True        bull_mastiff   \n",
       "14        1              bloodhound  0.195217    True     German_shepherd   \n",
       "15        1                   Lhasa  0.582330    True            Shih-Tzu   \n",
       "\n",
       "     p2_conf  p2_dog                           p3   p3_conf  p3_dog prediction  \n",
       "0   0.156665    True            Shetland_sheepdog  0.061428    True       dogs  \n",
       "1   0.074192    True          Rhodesian_ridgeback  0.072010    True       dogs  \n",
       "2   0.138584    True                   bloodhound  0.116197    True       dogs  \n",
       "3   0.360687    True           miniature_pinscher  0.222752    True       dogs  \n",
       "4   0.243682    True                     Doberman  0.154629    True       dogs  \n",
       "5   0.263788    True   Greater_Swiss_Mountain_dog  0.016199    True       dogs  \n",
       "7   0.058279    True                     fur_coat  0.054449   False      mixed  \n",
       "8   0.014594   False             golden_retriever  0.007959    True      mixed  \n",
       "9   0.192305    True  soft-coated_wheaten_terrier  0.082086    True       dogs  \n",
       "10  0.093718    True           Labrador_retriever  0.072427    True       dogs  \n",
       "11  0.174201    True                     Pekinese  0.109454    True       dogs  \n",
       "12  0.175382    True                 Ibizan_hound  0.097471    True       dogs  \n",
       "13  0.404722    True               French_bulldog  0.048960    True       dogs  \n",
       "14  0.078260    True                     malinois  0.075628    True       dogs  \n",
       "15  0.166192    True               Dandie_Dinmont  0.089688    True       dogs  "
      ]
     },
     "execution_count": 64,
     "metadata": {},
     "output_type": "execute_result"
    }
   ],
   "source": [
    "df_image_clean.head(n=15)"
   ]
  },
  {
   "cell_type": "code",
   "execution_count": 65,
   "metadata": {},
   "outputs": [],
   "source": [
    "# dropping the columns p1_dog, p2_dog and p3_dog\n",
    "df_image_clean = df_image_clean.drop(['p1_dog', 'p2_dog', 'p3_dog'], axis=1)"
   ]
  },
  {
   "cell_type": "code",
   "execution_count": 66,
   "metadata": {},
   "outputs": [
    {
     "data": {
      "text/html": [
       "<div>\n",
       "<style>\n",
       "    .dataframe thead tr:only-child th {\n",
       "        text-align: right;\n",
       "    }\n",
       "\n",
       "    .dataframe thead th {\n",
       "        text-align: left;\n",
       "    }\n",
       "\n",
       "    .dataframe tbody tr th {\n",
       "        vertical-align: top;\n",
       "    }\n",
       "</style>\n",
       "<table border=\"1\" class=\"dataframe\">\n",
       "  <thead>\n",
       "    <tr style=\"text-align: right;\">\n",
       "      <th></th>\n",
       "      <th>tweet_id</th>\n",
       "      <th>jpg_url</th>\n",
       "      <th>img_num</th>\n",
       "      <th>p1</th>\n",
       "      <th>p1_conf</th>\n",
       "      <th>p2</th>\n",
       "      <th>p2_conf</th>\n",
       "      <th>p3</th>\n",
       "      <th>p3_conf</th>\n",
       "      <th>prediction</th>\n",
       "    </tr>\n",
       "  </thead>\n",
       "  <tbody>\n",
       "    <tr>\n",
       "      <th>0</th>\n",
       "      <td>666020888022790149</td>\n",
       "      <td>https://pbs.twimg.com/media/CT4udn0WwAA0aMy.jpg</td>\n",
       "      <td>1</td>\n",
       "      <td>Welsh_springer_spaniel</td>\n",
       "      <td>0.465074</td>\n",
       "      <td>collie</td>\n",
       "      <td>0.156665</td>\n",
       "      <td>Shetland_sheepdog</td>\n",
       "      <td>0.061428</td>\n",
       "      <td>dogs</td>\n",
       "    </tr>\n",
       "    <tr>\n",
       "      <th>1</th>\n",
       "      <td>666029285002620928</td>\n",
       "      <td>https://pbs.twimg.com/media/CT42GRgUYAA5iDo.jpg</td>\n",
       "      <td>1</td>\n",
       "      <td>redbone</td>\n",
       "      <td>0.506826</td>\n",
       "      <td>miniature_pinscher</td>\n",
       "      <td>0.074192</td>\n",
       "      <td>Rhodesian_ridgeback</td>\n",
       "      <td>0.072010</td>\n",
       "      <td>dogs</td>\n",
       "    </tr>\n",
       "    <tr>\n",
       "      <th>2</th>\n",
       "      <td>666033412701032449</td>\n",
       "      <td>https://pbs.twimg.com/media/CT4521TWwAEvMyu.jpg</td>\n",
       "      <td>1</td>\n",
       "      <td>German_shepherd</td>\n",
       "      <td>0.596461</td>\n",
       "      <td>malinois</td>\n",
       "      <td>0.138584</td>\n",
       "      <td>bloodhound</td>\n",
       "      <td>0.116197</td>\n",
       "      <td>dogs</td>\n",
       "    </tr>\n",
       "    <tr>\n",
       "      <th>3</th>\n",
       "      <td>666044226329800704</td>\n",
       "      <td>https://pbs.twimg.com/media/CT5Dr8HUEAA-lEu.jpg</td>\n",
       "      <td>1</td>\n",
       "      <td>Rhodesian_ridgeback</td>\n",
       "      <td>0.408143</td>\n",
       "      <td>redbone</td>\n",
       "      <td>0.360687</td>\n",
       "      <td>miniature_pinscher</td>\n",
       "      <td>0.222752</td>\n",
       "      <td>dogs</td>\n",
       "    </tr>\n",
       "    <tr>\n",
       "      <th>4</th>\n",
       "      <td>666049248165822465</td>\n",
       "      <td>https://pbs.twimg.com/media/CT5IQmsXIAAKY4A.jpg</td>\n",
       "      <td>1</td>\n",
       "      <td>miniature_pinscher</td>\n",
       "      <td>0.560311</td>\n",
       "      <td>Rottweiler</td>\n",
       "      <td>0.243682</td>\n",
       "      <td>Doberman</td>\n",
       "      <td>0.154629</td>\n",
       "      <td>dogs</td>\n",
       "    </tr>\n",
       "    <tr>\n",
       "      <th>5</th>\n",
       "      <td>666050758794694657</td>\n",
       "      <td>https://pbs.twimg.com/media/CT5Jof1WUAEuVxN.jpg</td>\n",
       "      <td>1</td>\n",
       "      <td>Bernese_mountain_dog</td>\n",
       "      <td>0.651137</td>\n",
       "      <td>English_springer</td>\n",
       "      <td>0.263788</td>\n",
       "      <td>Greater_Swiss_Mountain_dog</td>\n",
       "      <td>0.016199</td>\n",
       "      <td>dogs</td>\n",
       "    </tr>\n",
       "    <tr>\n",
       "      <th>7</th>\n",
       "      <td>666055525042405380</td>\n",
       "      <td>https://pbs.twimg.com/media/CT5N9tpXIAAifs1.jpg</td>\n",
       "      <td>1</td>\n",
       "      <td>chow</td>\n",
       "      <td>0.692517</td>\n",
       "      <td>Tibetan_mastiff</td>\n",
       "      <td>0.058279</td>\n",
       "      <td>fur_coat</td>\n",
       "      <td>0.054449</td>\n",
       "      <td>mixed</td>\n",
       "    </tr>\n",
       "    <tr>\n",
       "      <th>8</th>\n",
       "      <td>666057090499244032</td>\n",
       "      <td>https://pbs.twimg.com/media/CT5PY90WoAAQGLo.jpg</td>\n",
       "      <td>1</td>\n",
       "      <td>shopping_cart</td>\n",
       "      <td>0.962465</td>\n",
       "      <td>shopping_basket</td>\n",
       "      <td>0.014594</td>\n",
       "      <td>golden_retriever</td>\n",
       "      <td>0.007959</td>\n",
       "      <td>mixed</td>\n",
       "    </tr>\n",
       "    <tr>\n",
       "      <th>9</th>\n",
       "      <td>666058600524156928</td>\n",
       "      <td>https://pbs.twimg.com/media/CT5Qw94XAAA_2dP.jpg</td>\n",
       "      <td>1</td>\n",
       "      <td>miniature_poodle</td>\n",
       "      <td>0.201493</td>\n",
       "      <td>komondor</td>\n",
       "      <td>0.192305</td>\n",
       "      <td>soft-coated_wheaten_terrier</td>\n",
       "      <td>0.082086</td>\n",
       "      <td>dogs</td>\n",
       "    </tr>\n",
       "    <tr>\n",
       "      <th>10</th>\n",
       "      <td>666063827256086533</td>\n",
       "      <td>https://pbs.twimg.com/media/CT5Vg_wXIAAXfnj.jpg</td>\n",
       "      <td>1</td>\n",
       "      <td>golden_retriever</td>\n",
       "      <td>0.775930</td>\n",
       "      <td>Tibetan_mastiff</td>\n",
       "      <td>0.093718</td>\n",
       "      <td>Labrador_retriever</td>\n",
       "      <td>0.072427</td>\n",
       "      <td>dogs</td>\n",
       "    </tr>\n",
       "  </tbody>\n",
       "</table>\n",
       "</div>"
      ],
      "text/plain": [
       "              tweet_id                                          jpg_url  \\\n",
       "0   666020888022790149  https://pbs.twimg.com/media/CT4udn0WwAA0aMy.jpg   \n",
       "1   666029285002620928  https://pbs.twimg.com/media/CT42GRgUYAA5iDo.jpg   \n",
       "2   666033412701032449  https://pbs.twimg.com/media/CT4521TWwAEvMyu.jpg   \n",
       "3   666044226329800704  https://pbs.twimg.com/media/CT5Dr8HUEAA-lEu.jpg   \n",
       "4   666049248165822465  https://pbs.twimg.com/media/CT5IQmsXIAAKY4A.jpg   \n",
       "5   666050758794694657  https://pbs.twimg.com/media/CT5Jof1WUAEuVxN.jpg   \n",
       "7   666055525042405380  https://pbs.twimg.com/media/CT5N9tpXIAAifs1.jpg   \n",
       "8   666057090499244032  https://pbs.twimg.com/media/CT5PY90WoAAQGLo.jpg   \n",
       "9   666058600524156928  https://pbs.twimg.com/media/CT5Qw94XAAA_2dP.jpg   \n",
       "10  666063827256086533  https://pbs.twimg.com/media/CT5Vg_wXIAAXfnj.jpg   \n",
       "\n",
       "    img_num                      p1   p1_conf                  p2   p2_conf  \\\n",
       "0         1  Welsh_springer_spaniel  0.465074              collie  0.156665   \n",
       "1         1                 redbone  0.506826  miniature_pinscher  0.074192   \n",
       "2         1         German_shepherd  0.596461            malinois  0.138584   \n",
       "3         1     Rhodesian_ridgeback  0.408143             redbone  0.360687   \n",
       "4         1      miniature_pinscher  0.560311          Rottweiler  0.243682   \n",
       "5         1    Bernese_mountain_dog  0.651137    English_springer  0.263788   \n",
       "7         1                    chow  0.692517     Tibetan_mastiff  0.058279   \n",
       "8         1           shopping_cart  0.962465     shopping_basket  0.014594   \n",
       "9         1        miniature_poodle  0.201493            komondor  0.192305   \n",
       "10        1        golden_retriever  0.775930     Tibetan_mastiff  0.093718   \n",
       "\n",
       "                             p3   p3_conf prediction  \n",
       "0             Shetland_sheepdog  0.061428       dogs  \n",
       "1           Rhodesian_ridgeback  0.072010       dogs  \n",
       "2                    bloodhound  0.116197       dogs  \n",
       "3            miniature_pinscher  0.222752       dogs  \n",
       "4                      Doberman  0.154629       dogs  \n",
       "5    Greater_Swiss_Mountain_dog  0.016199       dogs  \n",
       "7                      fur_coat  0.054449      mixed  \n",
       "8              golden_retriever  0.007959      mixed  \n",
       "9   soft-coated_wheaten_terrier  0.082086       dogs  \n",
       "10           Labrador_retriever  0.072427       dogs  "
      ]
     },
     "execution_count": 66,
     "metadata": {},
     "output_type": "execute_result"
    }
   ],
   "source": [
    "df_image_clean.head(n=10)"
   ]
  },
  {
   "cell_type": "markdown",
   "metadata": {},
   "source": [
    "### Cleaning Tidiness issue 3"
   ]
  },
  {
   "cell_type": "code",
   "execution_count": 67,
   "metadata": {},
   "outputs": [],
   "source": [
    "# dataframe: df_tweet_clean\n",
    "# dropping column id_str\n",
    "df_tweet_clean = df_tweet_clean.drop(['id_str'], axis=1)"
   ]
  },
  {
   "cell_type": "markdown",
   "metadata": {},
   "source": [
    "### Combining all three datasets into one"
   ]
  },
  {
   "cell_type": "code",
   "execution_count": 68,
   "metadata": {},
   "outputs": [],
   "source": [
    "df_master = df_archive_clean.merge(\n",
    "    df_image_clean, left_on='tweet_id', right_on='tweet_id').merge(\n",
    "    df_tweet_clean, left_on='tweet_id', right_on='id')"
   ]
  },
  {
   "cell_type": "code",
   "execution_count": 69,
   "metadata": {},
   "outputs": [
    {
     "data": {
      "text/html": [
       "<div>\n",
       "<style>\n",
       "    .dataframe thead tr:only-child th {\n",
       "        text-align: right;\n",
       "    }\n",
       "\n",
       "    .dataframe thead th {\n",
       "        text-align: left;\n",
       "    }\n",
       "\n",
       "    .dataframe tbody tr th {\n",
       "        vertical-align: top;\n",
       "    }\n",
       "</style>\n",
       "<table border=\"1\" class=\"dataframe\">\n",
       "  <thead>\n",
       "    <tr style=\"text-align: right;\">\n",
       "      <th></th>\n",
       "      <th>tweet_id</th>\n",
       "      <th>timestamp</th>\n",
       "      <th>source</th>\n",
       "      <th>text</th>\n",
       "      <th>expanded_urls</th>\n",
       "      <th>rating_numerator</th>\n",
       "      <th>rating_denominator</th>\n",
       "      <th>name</th>\n",
       "      <th>type_of_dog</th>\n",
       "      <th>jpg_url</th>\n",
       "      <th>...</th>\n",
       "      <th>p2_conf</th>\n",
       "      <th>p3</th>\n",
       "      <th>p3_conf</th>\n",
       "      <th>prediction</th>\n",
       "      <th>created_at</th>\n",
       "      <th>favorite_count</th>\n",
       "      <th>full_text</th>\n",
       "      <th>id</th>\n",
       "      <th>lang</th>\n",
       "      <th>retweet_count</th>\n",
       "    </tr>\n",
       "  </thead>\n",
       "  <tbody>\n",
       "    <tr>\n",
       "      <th>0</th>\n",
       "      <td>892177421306343426</td>\n",
       "      <td>2017-08-01 00:17:27 +0000</td>\n",
       "      <td>Twitter for iPhone</td>\n",
       "      <td>This is Tilly. She's just checking pup on you....</td>\n",
       "      <td>https://twitter.com/dog_rates/status/892177421...</td>\n",
       "      <td>13</td>\n",
       "      <td>10</td>\n",
       "      <td>Tilly</td>\n",
       "      <td>None</td>\n",
       "      <td>https://pbs.twimg.com/media/DGGmoV4XsAAUL6n.jpg</td>\n",
       "      <td>...</td>\n",
       "      <td>0.090647</td>\n",
       "      <td>papillon</td>\n",
       "      <td>0.068957</td>\n",
       "      <td>dogs</td>\n",
       "      <td>2017-08-01 00:17:27</td>\n",
       "      <td>32659</td>\n",
       "      <td>This is Tilly. She's just checking pup on you....</td>\n",
       "      <td>892177421306343426</td>\n",
       "      <td>en</td>\n",
       "      <td>6145</td>\n",
       "    </tr>\n",
       "    <tr>\n",
       "      <th>1</th>\n",
       "      <td>891815181378084864</td>\n",
       "      <td>2017-07-31 00:18:03 +0000</td>\n",
       "      <td>Twitter for iPhone</td>\n",
       "      <td>This is Archie. He is a rare Norwegian Pouncin...</td>\n",
       "      <td>https://twitter.com/dog_rates/status/891815181...</td>\n",
       "      <td>12</td>\n",
       "      <td>10</td>\n",
       "      <td>Archie</td>\n",
       "      <td>None</td>\n",
       "      <td>https://pbs.twimg.com/media/DGBdLU1WsAANxJ9.jpg</td>\n",
       "      <td>...</td>\n",
       "      <td>0.078253</td>\n",
       "      <td>kelpie</td>\n",
       "      <td>0.031379</td>\n",
       "      <td>dogs</td>\n",
       "      <td>2017-07-31 00:18:03</td>\n",
       "      <td>24582</td>\n",
       "      <td>This is Archie. He is a rare Norwegian Pouncin...</td>\n",
       "      <td>891815181378084864</td>\n",
       "      <td>en</td>\n",
       "      <td>4069</td>\n",
       "    </tr>\n",
       "    <tr>\n",
       "      <th>2</th>\n",
       "      <td>891689557279858688</td>\n",
       "      <td>2017-07-30 15:58:51 +0000</td>\n",
       "      <td>Twitter for iPhone</td>\n",
       "      <td>This is Darla. She commenced a snooze mid meal...</td>\n",
       "      <td>https://twitter.com/dog_rates/status/891689557...</td>\n",
       "      <td>13</td>\n",
       "      <td>10</td>\n",
       "      <td>Darla</td>\n",
       "      <td>None</td>\n",
       "      <td>https://pbs.twimg.com/media/DF_q7IAWsAEuuN8.jpg</td>\n",
       "      <td>...</td>\n",
       "      <td>0.168086</td>\n",
       "      <td>spatula</td>\n",
       "      <td>0.040836</td>\n",
       "      <td>mixed</td>\n",
       "      <td>2017-07-30 15:58:51</td>\n",
       "      <td>41387</td>\n",
       "      <td>This is Darla. She commenced a snooze mid meal...</td>\n",
       "      <td>891689557279858688</td>\n",
       "      <td>en</td>\n",
       "      <td>8464</td>\n",
       "    </tr>\n",
       "    <tr>\n",
       "      <th>3</th>\n",
       "      <td>891327558926688256</td>\n",
       "      <td>2017-07-29 16:00:24 +0000</td>\n",
       "      <td>Twitter for iPhone</td>\n",
       "      <td>This is Franklin. He would like you to stop ca...</td>\n",
       "      <td>https://twitter.com/dog_rates/status/891327558...</td>\n",
       "      <td>12</td>\n",
       "      <td>10</td>\n",
       "      <td>Franklin</td>\n",
       "      <td>None</td>\n",
       "      <td>https://pbs.twimg.com/media/DF6hr6BUMAAzZgT.jpg</td>\n",
       "      <td>...</td>\n",
       "      <td>0.225770</td>\n",
       "      <td>German_short-haired_pointer</td>\n",
       "      <td>0.175219</td>\n",
       "      <td>dogs</td>\n",
       "      <td>2017-07-29 16:00:24</td>\n",
       "      <td>39578</td>\n",
       "      <td>This is Franklin. He would like you to stop ca...</td>\n",
       "      <td>891327558926688256</td>\n",
       "      <td>en</td>\n",
       "      <td>9162</td>\n",
       "    </tr>\n",
       "    <tr>\n",
       "      <th>4</th>\n",
       "      <td>891087950875897856</td>\n",
       "      <td>2017-07-29 00:08:17 +0000</td>\n",
       "      <td>Twitter for iPhone</td>\n",
       "      <td>Here we have a majestic great white breaching ...</td>\n",
       "      <td>https://twitter.com/dog_rates/status/891087950...</td>\n",
       "      <td>13</td>\n",
       "      <td>10</td>\n",
       "      <td>None</td>\n",
       "      <td>None</td>\n",
       "      <td>https://pbs.twimg.com/media/DF3HwyEWsAABqE6.jpg</td>\n",
       "      <td>...</td>\n",
       "      <td>0.116317</td>\n",
       "      <td>Indian_elephant</td>\n",
       "      <td>0.076902</td>\n",
       "      <td>mixed</td>\n",
       "      <td>2017-07-29 00:08:17</td>\n",
       "      <td>19871</td>\n",
       "      <td>Here we have a majestic great white breaching ...</td>\n",
       "      <td>891087950875897856</td>\n",
       "      <td>en</td>\n",
       "      <td>3049</td>\n",
       "    </tr>\n",
       "    <tr>\n",
       "      <th>5</th>\n",
       "      <td>890971913173991426</td>\n",
       "      <td>2017-07-28 16:27:12 +0000</td>\n",
       "      <td>Twitter for iPhone</td>\n",
       "      <td>Meet Jax. He enjoys ice cream so much he gets ...</td>\n",
       "      <td>https://gofundme.com/ydvmve-surgery-for-jax,ht...</td>\n",
       "      <td>13</td>\n",
       "      <td>10</td>\n",
       "      <td>Jax</td>\n",
       "      <td>None</td>\n",
       "      <td>https://pbs.twimg.com/media/DF1eOmZXUAALUcq.jpg</td>\n",
       "      <td>...</td>\n",
       "      <td>0.199287</td>\n",
       "      <td>ice_lolly</td>\n",
       "      <td>0.193548</td>\n",
       "      <td>mixed</td>\n",
       "      <td>2017-07-28 16:27:12</td>\n",
       "      <td>11617</td>\n",
       "      <td>Meet Jax. He enjoys ice cream so much he gets ...</td>\n",
       "      <td>890971913173991426</td>\n",
       "      <td>en</td>\n",
       "      <td>2019</td>\n",
       "    </tr>\n",
       "    <tr>\n",
       "      <th>6</th>\n",
       "      <td>890729181411237888</td>\n",
       "      <td>2017-07-28 00:22:40 +0000</td>\n",
       "      <td>Twitter for iPhone</td>\n",
       "      <td>When you watch your owner call another dog a g...</td>\n",
       "      <td>https://twitter.com/dog_rates/status/890729181...</td>\n",
       "      <td>13</td>\n",
       "      <td>10</td>\n",
       "      <td>None</td>\n",
       "      <td>None</td>\n",
       "      <td>https://pbs.twimg.com/media/DFyBahAVwAAhUTd.jpg</td>\n",
       "      <td>...</td>\n",
       "      <td>0.178406</td>\n",
       "      <td>Pembroke</td>\n",
       "      <td>0.076507</td>\n",
       "      <td>dogs</td>\n",
       "      <td>2017-07-28 00:22:40</td>\n",
       "      <td>64197</td>\n",
       "      <td>When you watch your owner call another dog a g...</td>\n",
       "      <td>890729181411237888</td>\n",
       "      <td>en</td>\n",
       "      <td>18457</td>\n",
       "    </tr>\n",
       "    <tr>\n",
       "      <th>7</th>\n",
       "      <td>890609185150312448</td>\n",
       "      <td>2017-07-27 16:25:51 +0000</td>\n",
       "      <td>Twitter for iPhone</td>\n",
       "      <td>This is Zoey. She doesn't want to be one of th...</td>\n",
       "      <td>https://twitter.com/dog_rates/status/890609185...</td>\n",
       "      <td>13</td>\n",
       "      <td>10</td>\n",
       "      <td>Zoey</td>\n",
       "      <td>None</td>\n",
       "      <td>https://pbs.twimg.com/media/DFwUU__XcAEpyXI.jpg</td>\n",
       "      <td>...</td>\n",
       "      <td>0.193054</td>\n",
       "      <td>Chesapeake_Bay_retriever</td>\n",
       "      <td>0.118184</td>\n",
       "      <td>dogs</td>\n",
       "      <td>2017-07-27 16:25:51</td>\n",
       "      <td>27305</td>\n",
       "      <td>This is Zoey. She doesn't want to be one of th...</td>\n",
       "      <td>890609185150312448</td>\n",
       "      <td>en</td>\n",
       "      <td>4188</td>\n",
       "    </tr>\n",
       "    <tr>\n",
       "      <th>8</th>\n",
       "      <td>890240255349198849</td>\n",
       "      <td>2017-07-26 15:59:51 +0000</td>\n",
       "      <td>Twitter for iPhone</td>\n",
       "      <td>This is Cassie. She is a college pup. Studying...</td>\n",
       "      <td>https://twitter.com/dog_rates/status/890240255...</td>\n",
       "      <td>14</td>\n",
       "      <td>10</td>\n",
       "      <td>Cassie</td>\n",
       "      <td>doggo</td>\n",
       "      <td>https://pbs.twimg.com/media/DFrEyVuW0AAO3t9.jpg</td>\n",
       "      <td>...</td>\n",
       "      <td>0.451038</td>\n",
       "      <td>Chihuahua</td>\n",
       "      <td>0.029248</td>\n",
       "      <td>dogs</td>\n",
       "      <td>2017-07-26 15:59:51</td>\n",
       "      <td>31322</td>\n",
       "      <td>This is Cassie. She is a college pup. Studying...</td>\n",
       "      <td>890240255349198849</td>\n",
       "      <td>en</td>\n",
       "      <td>7215</td>\n",
       "    </tr>\n",
       "    <tr>\n",
       "      <th>9</th>\n",
       "      <td>890006608113172480</td>\n",
       "      <td>2017-07-26 00:31:25 +0000</td>\n",
       "      <td>Twitter for iPhone</td>\n",
       "      <td>This is Koda. He is a South Australian decksha...</td>\n",
       "      <td>https://twitter.com/dog_rates/status/890006608...</td>\n",
       "      <td>13</td>\n",
       "      <td>10</td>\n",
       "      <td>Koda</td>\n",
       "      <td>None</td>\n",
       "      <td>https://pbs.twimg.com/media/DFnwSY4WAAAMliS.jpg</td>\n",
       "      <td>...</td>\n",
       "      <td>0.013884</td>\n",
       "      <td>chow</td>\n",
       "      <td>0.008167</td>\n",
       "      <td>dogs</td>\n",
       "      <td>2017-07-26 00:31:25</td>\n",
       "      <td>30102</td>\n",
       "      <td>This is Koda. He is a South Australian decksha...</td>\n",
       "      <td>890006608113172480</td>\n",
       "      <td>en</td>\n",
       "      <td>7176</td>\n",
       "    </tr>\n",
       "  </tbody>\n",
       "</table>\n",
       "<p>10 rows × 24 columns</p>\n",
       "</div>"
      ],
      "text/plain": [
       "             tweet_id                  timestamp              source  \\\n",
       "0  892177421306343426  2017-08-01 00:17:27 +0000  Twitter for iPhone   \n",
       "1  891815181378084864  2017-07-31 00:18:03 +0000  Twitter for iPhone   \n",
       "2  891689557279858688  2017-07-30 15:58:51 +0000  Twitter for iPhone   \n",
       "3  891327558926688256  2017-07-29 16:00:24 +0000  Twitter for iPhone   \n",
       "4  891087950875897856  2017-07-29 00:08:17 +0000  Twitter for iPhone   \n",
       "5  890971913173991426  2017-07-28 16:27:12 +0000  Twitter for iPhone   \n",
       "6  890729181411237888  2017-07-28 00:22:40 +0000  Twitter for iPhone   \n",
       "7  890609185150312448  2017-07-27 16:25:51 +0000  Twitter for iPhone   \n",
       "8  890240255349198849  2017-07-26 15:59:51 +0000  Twitter for iPhone   \n",
       "9  890006608113172480  2017-07-26 00:31:25 +0000  Twitter for iPhone   \n",
       "\n",
       "                                                text  \\\n",
       "0  This is Tilly. She's just checking pup on you....   \n",
       "1  This is Archie. He is a rare Norwegian Pouncin...   \n",
       "2  This is Darla. She commenced a snooze mid meal...   \n",
       "3  This is Franklin. He would like you to stop ca...   \n",
       "4  Here we have a majestic great white breaching ...   \n",
       "5  Meet Jax. He enjoys ice cream so much he gets ...   \n",
       "6  When you watch your owner call another dog a g...   \n",
       "7  This is Zoey. She doesn't want to be one of th...   \n",
       "8  This is Cassie. She is a college pup. Studying...   \n",
       "9  This is Koda. He is a South Australian decksha...   \n",
       "\n",
       "                                       expanded_urls  rating_numerator  \\\n",
       "0  https://twitter.com/dog_rates/status/892177421...                13   \n",
       "1  https://twitter.com/dog_rates/status/891815181...                12   \n",
       "2  https://twitter.com/dog_rates/status/891689557...                13   \n",
       "3  https://twitter.com/dog_rates/status/891327558...                12   \n",
       "4  https://twitter.com/dog_rates/status/891087950...                13   \n",
       "5  https://gofundme.com/ydvmve-surgery-for-jax,ht...                13   \n",
       "6  https://twitter.com/dog_rates/status/890729181...                13   \n",
       "7  https://twitter.com/dog_rates/status/890609185...                13   \n",
       "8  https://twitter.com/dog_rates/status/890240255...                14   \n",
       "9  https://twitter.com/dog_rates/status/890006608...                13   \n",
       "\n",
       "   rating_denominator      name type_of_dog  \\\n",
       "0                  10     Tilly        None   \n",
       "1                  10    Archie        None   \n",
       "2                  10     Darla        None   \n",
       "3                  10  Franklin        None   \n",
       "4                  10      None        None   \n",
       "5                  10       Jax        None   \n",
       "6                  10      None        None   \n",
       "7                  10      Zoey        None   \n",
       "8                  10    Cassie       doggo   \n",
       "9                  10      Koda        None   \n",
       "\n",
       "                                           jpg_url      ...         p2_conf  \\\n",
       "0  https://pbs.twimg.com/media/DGGmoV4XsAAUL6n.jpg      ...        0.090647   \n",
       "1  https://pbs.twimg.com/media/DGBdLU1WsAANxJ9.jpg      ...        0.078253   \n",
       "2  https://pbs.twimg.com/media/DF_q7IAWsAEuuN8.jpg      ...        0.168086   \n",
       "3  https://pbs.twimg.com/media/DF6hr6BUMAAzZgT.jpg      ...        0.225770   \n",
       "4  https://pbs.twimg.com/media/DF3HwyEWsAABqE6.jpg      ...        0.116317   \n",
       "5  https://pbs.twimg.com/media/DF1eOmZXUAALUcq.jpg      ...        0.199287   \n",
       "6  https://pbs.twimg.com/media/DFyBahAVwAAhUTd.jpg      ...        0.178406   \n",
       "7  https://pbs.twimg.com/media/DFwUU__XcAEpyXI.jpg      ...        0.193054   \n",
       "8  https://pbs.twimg.com/media/DFrEyVuW0AAO3t9.jpg      ...        0.451038   \n",
       "9  https://pbs.twimg.com/media/DFnwSY4WAAAMliS.jpg      ...        0.013884   \n",
       "\n",
       "                            p3   p3_conf prediction          created_at  \\\n",
       "0                     papillon  0.068957       dogs 2017-08-01 00:17:27   \n",
       "1                       kelpie  0.031379       dogs 2017-07-31 00:18:03   \n",
       "2                      spatula  0.040836      mixed 2017-07-30 15:58:51   \n",
       "3  German_short-haired_pointer  0.175219       dogs 2017-07-29 16:00:24   \n",
       "4              Indian_elephant  0.076902      mixed 2017-07-29 00:08:17   \n",
       "5                    ice_lolly  0.193548      mixed 2017-07-28 16:27:12   \n",
       "6                     Pembroke  0.076507       dogs 2017-07-28 00:22:40   \n",
       "7     Chesapeake_Bay_retriever  0.118184       dogs 2017-07-27 16:25:51   \n",
       "8                    Chihuahua  0.029248       dogs 2017-07-26 15:59:51   \n",
       "9                         chow  0.008167       dogs 2017-07-26 00:31:25   \n",
       "\n",
       "  favorite_count                                          full_text  \\\n",
       "0          32659  This is Tilly. She's just checking pup on you....   \n",
       "1          24582  This is Archie. He is a rare Norwegian Pouncin...   \n",
       "2          41387  This is Darla. She commenced a snooze mid meal...   \n",
       "3          39578  This is Franklin. He would like you to stop ca...   \n",
       "4          19871  Here we have a majestic great white breaching ...   \n",
       "5          11617  Meet Jax. He enjoys ice cream so much he gets ...   \n",
       "6          64197  When you watch your owner call another dog a g...   \n",
       "7          27305  This is Zoey. She doesn't want to be one of th...   \n",
       "8          31322  This is Cassie. She is a college pup. Studying...   \n",
       "9          30102  This is Koda. He is a South Australian decksha...   \n",
       "\n",
       "                   id lang  retweet_count  \n",
       "0  892177421306343426   en           6145  \n",
       "1  891815181378084864   en           4069  \n",
       "2  891689557279858688   en           8464  \n",
       "3  891327558926688256   en           9162  \n",
       "4  891087950875897856   en           3049  \n",
       "5  890971913173991426   en           2019  \n",
       "6  890729181411237888   en          18457  \n",
       "7  890609185150312448   en           4188  \n",
       "8  890240255349198849   en           7215  \n",
       "9  890006608113172480   en           7176  \n",
       "\n",
       "[10 rows x 24 columns]"
      ]
     },
     "execution_count": 69,
     "metadata": {},
     "output_type": "execute_result"
    }
   ],
   "source": [
    "df_master.head(n=10)"
   ]
  },
  {
   "cell_type": "code",
   "execution_count": 70,
   "metadata": {},
   "outputs": [],
   "source": [
    "# further cleaning: dropping timestamp and id\n",
    "df_master = df_master.drop(['timestamp', 'id'], axis=1)"
   ]
  },
  {
   "cell_type": "code",
   "execution_count": 71,
   "metadata": {},
   "outputs": [
    {
     "name": "stdout",
     "output_type": "stream",
     "text": [
      "<class 'pandas.core.frame.DataFrame'>\n",
      "Int64Index: 1732 entries, 0 to 1731\n",
      "Data columns (total 22 columns):\n",
      "tweet_id              1732 non-null int64\n",
      "source                1732 non-null object\n",
      "text                  1732 non-null object\n",
      "expanded_urls         1732 non-null object\n",
      "rating_numerator      1732 non-null int64\n",
      "rating_denominator    1732 non-null int64\n",
      "name                  1732 non-null object\n",
      "type_of_dog           1732 non-null object\n",
      "jpg_url               1732 non-null object\n",
      "img_num               1732 non-null int64\n",
      "p1                    1732 non-null object\n",
      "p1_conf               1732 non-null float64\n",
      "p2                    1732 non-null object\n",
      "p2_conf               1732 non-null float64\n",
      "p3                    1732 non-null object\n",
      "p3_conf               1732 non-null float64\n",
      "prediction            1732 non-null object\n",
      "created_at            1732 non-null datetime64[ns]\n",
      "favorite_count        1732 non-null int64\n",
      "full_text             1732 non-null object\n",
      "lang                  1732 non-null object\n",
      "retweet_count         1732 non-null int64\n",
      "dtypes: datetime64[ns](1), float64(3), int64(6), object(12)\n",
      "memory usage: 311.2+ KB\n"
     ]
    }
   ],
   "source": [
    "df_master.info()"
   ]
  },
  {
   "cell_type": "markdown",
   "metadata": {},
   "source": [
    "### Storing the cleaned data"
   ]
  },
  {
   "cell_type": "code",
   "execution_count": 72,
   "metadata": {},
   "outputs": [],
   "source": [
    "df_master.to_csv('twitter_archive_master.csv')"
   ]
  },
  {
   "cell_type": "markdown",
   "metadata": {},
   "source": [
    "## Analysis and Visualization"
   ]
  },
  {
   "cell_type": "markdown",
   "metadata": {},
   "source": [
    "### Is there a correlation betweet *favorite_count* and *retweet_count*?"
   ]
  },
  {
   "cell_type": "code",
   "execution_count": 73,
   "metadata": {},
   "outputs": [
    {
     "data": {
      "text/plain": [
       "0.8644509447766614"
      ]
     },
     "execution_count": 73,
     "metadata": {},
     "output_type": "execute_result"
    }
   ],
   "source": [
    "# correlation between favorite_count and retweet_count\n",
    "df_master.favorite_count.corr(df_master.retweet_count)"
   ]
  },
  {
   "cell_type": "code",
   "execution_count": 74,
   "metadata": {},
   "outputs": [
    {
     "data": {
      "text/plain": [
       "<matplotlib.figure.Figure at 0x7fde925b9c50>"
      ]
     },
     "metadata": {},
     "output_type": "display_data"
    },
    {
     "data": {
      "image/png": "[encoded data removed]",
      "text/plain": [
       "<matplotlib.figure.Figure at 0x7fde925ae4a8>"
      ]
     },
     "metadata": {
      "needs_background": "light"
     },
     "output_type": "display_data"
    }
   ],
   "source": [
    "fig = plt.figure()\n",
    "plt.figure(figsize=(20,10))\n",
    "plt.scatter(df_master.favorite_count, df_master.retweet_count)\n",
    "plt.xlim(0,df_master.favorite_count.quantile(0.95))\n",
    "plt.ylim(0,df_master.retweet_count.quantile(0.95))\n",
    "plt.title('favorite_count vs retweet_count')\n",
    "plt.xlabel('favorite_count')\n",
    "plt.ylabel('retweet_count')\n",
    "plt.show()"
   ]
  },
  {
   "cell_type": "markdown",
   "metadata": {},
   "source": [
    "The correlation of 0.86 indicates a strong correlation between the favorite_count and retweet_count. This means that tweet which are favorited are more likely to be retweeted and vice versa."
   ]
  },
  {
   "cell_type": "markdown",
   "metadata": {},
   "source": [
    "### What *type_of_dog* is favorited the most on average?"
   ]
  },
  {
   "cell_type": "code",
   "execution_count": 75,
   "metadata": {},
   "outputs": [
    {
     "data": {
      "text/plain": [
       "type_of_dog\n",
       "puppo      20739.727273\n",
       "doggo      19306.017544\n",
       "floofer    12675.285714\n",
       "None        8284.891452\n",
       "pupper      7157.209302\n",
       "Name: favorite_count, dtype: float64"
      ]
     },
     "execution_count": 75,
     "metadata": {},
     "output_type": "execute_result"
    }
   ],
   "source": [
    "df_master.groupby(['type_of_dog']).favorite_count.mean().sort_values(ascending=False)"
   ]
  },
  {
   "cell_type": "markdown",
   "metadata": {},
   "source": [
    "It looks like dogs being categorized as \"puppo\" are the ones which are favorited the most on average. Dogs of the type 'pupper' on the other hand seem to be not that popular."
   ]
  },
  {
   "cell_type": "markdown",
   "metadata": {},
   "source": [
    "### Is there a correlation betweet *favorite_count* and the rating?"
   ]
  },
  {
   "cell_type": "code",
   "execution_count": 76,
   "metadata": {},
   "outputs": [],
   "source": [
    "# calculating the rating by dividing rating_numerator by rating_denominator\n",
    "df_master.rating = df_master.rating_numerator / df_master.rating_denominator"
   ]
  },
  {
   "cell_type": "code",
   "execution_count": 77,
   "metadata": {},
   "outputs": [
    {
     "data": {
      "text/plain": [
       "0.27523332570609893"
      ]
     },
     "execution_count": 77,
     "metadata": {},
     "output_type": "execute_result"
    }
   ],
   "source": [
    "# correlation between favorite_count and the rating\n",
    "df_master.favorite_count.corr(df_master.rating)"
   ]
  },
  {
   "cell_type": "markdown",
   "metadata": {},
   "source": [
    "There is a positive correlation between favorite_count and the rating but it is quite small. It means that you can expect a tweet with a good rating to be favorited."
   ]
  },
  {
   "cell_type": "markdown",
   "metadata": {},
   "source": [
    "### Is there a correlation betweet *retweet_count* and the rating?"
   ]
  },
  {
   "cell_type": "code",
   "execution_count": 78,
   "metadata": {},
   "outputs": [
    {
     "data": {
      "text/plain": [
       "0.2234346154127077"
      ]
     },
     "execution_count": 78,
     "metadata": {},
     "output_type": "execute_result"
    }
   ],
   "source": [
    "# correlation between retweet_count and the rating\n",
    "df_master.retweet_count.corr(df_master.rating)"
   ]
  },
  {
   "cell_type": "markdown",
   "metadata": {},
   "source": [
    "The correlation is a little lower than the on between favorite_count and rating but its existent and positive. It means that a tweet with a better rating tends to be retweeted more. "
   ]
  },
  {
   "cell_type": "code",
   "execution_count": null,
   "metadata": {},
   "outputs": [],
   "source": []
  }
 ],
 "metadata": {
  "kernelspec": {
   "display_name": "Python 3",
   "language": "python",
   "name": "python3"
  },
  "language_info": {
   "codemirror_mode": {
    "name": "ipython",
    "version": 3
   },
   "file_extension": ".py",
   "mimetype": "text/x-python",
   "name": "python",
   "nbconvert_exporter": "python",
   "pygments_lexer": "ipython3",
   "version": "3.6.3"
  }
 },
 "nbformat": 4,
 "nbformat_minor": 2
}
