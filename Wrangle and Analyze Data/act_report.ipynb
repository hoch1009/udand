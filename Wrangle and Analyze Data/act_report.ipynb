{
 "cells": [
  {
   "cell_type": "markdown",
   "metadata": {},
   "source": [
    "# act report"
   ]
  },
  {
   "cell_type": "markdown",
   "metadata": {},
   "source": [
    "Have you ever wondered if people tend to like young and small dogs more than older, bigger dogs? By using data from WeRateDogs you get a good picture about what the Twitter community likes in terms of dogs, at least of those that are shown in a picture. "
   ]
  },
  {
   "cell_type": "markdown",
   "metadata": {},
   "source": [
    "When we look at the main four types of dogs - doggo, pupper, puppo and floofer - we ca see that on average people mark tweets as a favorite that show the so to say medium sized dog, the puppo. The puppo is followed by the doggo, which is older and larger. The doggo is followed by the floofer and at the fourth place with the lowest average number of favorites are puppers - the smallest ones."
   ]
  },
  {
   "cell_type": "markdown",
   "metadata": {},
   "source": [
    "![Correlation between retweet_count and favorite_count](corr.png)\n"
   ]
  },
  {
   "cell_type": "markdown",
   "metadata": {},
   "source": [
    "A more common finding was the correlation between the favorite_count and the retweet_count. Here we find a strong positive correlation which would allow us to state that if a tweet gets marked as a favorite the same tweet will most likely be retweeted."
   ]
  },
  {
   "cell_type": "markdown",
   "metadata": {},
   "source": [
    "Overall the content from WeRateDogs is quite individual meaning that if some likes a dog or not is hard to predict. The interesting but also obvious finding is that a high rating from the authors does not mean the tweet is getting favorite or retweeted more. Liking a dog or not is still a quite individual decision."
   ]
  }
 ],
 "metadata": {
  "kernelspec": {
   "display_name": "Python 3",
   "language": "python",
   "name": "python3"
  },
  "language_info": {
   "codemirror_mode": {
    "name": "ipython",
    "version": 3
   },
   "file_extension": ".py",
   "mimetype": "text/x-python",
   "name": "python",
   "nbconvert_exporter": "python",
   "pygments_lexer": "ipython3",
   "version": "3.6.3"
  }
 },
 "nbformat": 4,
 "nbformat_minor": 2
}
