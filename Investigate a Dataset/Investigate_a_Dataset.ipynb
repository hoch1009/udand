{
 "cells": [
  {
   "cell_type": "markdown",
   "metadata": {},
   "source": [
    "# Investigating gun data in the U.S.\n",
    "\n",
    "## Table of Contents\n",
    "<ul>\n",
    "<li><a href=\"#intro\">Introduction</a></li>\n",
    "<li><a href=\"#wrangling\">Data Wrangling</a></li>\n",
    "<ul>\n",
    "<li><a href='#wrangling_gd'>Data Cleaning (gun_data.xlsx)</a></li>\n",
    "<li><a href='#wrangling_cd'>Data Cleaning (U.S. Census Data.csv)</a></li>\n",
    "</ul>\n",
    "<li><a href=\"#eda\">Exploratory Data Analysis</a></li>\n",
    "<ul>\n",
    "<li><a href='q1'>Q1: Does the number of veterans per state affect the number of gun purchases?</a></li>\n",
    "<li><a href='q2'>Q2: Does the number of foreign born persons per state affect the number of gun purchases?</a></li>\n",
    "<li><a href='q3'>Q3: What is the overall trend of gun purchases?</a></li></ul>\n",
    "<li><a href=\"#conclusions\">Conclusions</a></li>\n",
    "</ul>"
   ]
  },
  {
   "cell_type": "markdown",
   "metadata": {},
   "source": [
    "<a id='intro'></a>\n",
    "## Introduction\n",
    "\n",
    "The following analysis is based on data from the FBI's National Instant Criminal Background Check System which can be found on [GitHub](https://github.com/BuzzFeedNews/nics-firearm-background-checks/blob/master/README.md). The data set consists of two files:\n",
    "- **gun_data.xlsx**: containing the actual gun data per state per month\n",
    "- **U.S. Census Data.csv**: containing some variables on state level which can be used to investigate if certain aspects have an effect on the number of guns per state"
   ]
  },
  {
   "cell_type": "code",
   "execution_count": 37,
   "metadata": {},
   "outputs": [],
   "source": [
    "import numpy as np\n",
    "import pandas as pd\n",
    "import matplotlib.pyplot as plt\n",
    "% matplotlib inline"
   ]
  },
  {
   "cell_type": "code",
   "execution_count": 38,
   "metadata": {},
   "outputs": [],
   "source": [
    "# Create a dataframe based on the gun_data.xlsx\n",
    "df_gd = pd.read_excel('gun_data.xlsx')\n",
    "\n",
    "# Create a dataframe based on the raw census data\n",
    "df_c_raw = pd.read_csv('U.S. Census Data.csv')"
   ]
  },
  {
   "cell_type": "markdown",
   "metadata": {},
   "source": [
    "<a id='wrangling'></a>\n",
    "## Data Wrangling\n",
    "\n",
    "### General Properties of the file: gun_data.xlsx\n",
    "\n",
    "Getting a general overview over the data:"
   ]
  },
  {
   "cell_type": "code",
   "execution_count": 39,
   "metadata": {
    "scrolled": true
   },
   "outputs": [
    {
     "name": "stdout",
     "output_type": "stream",
     "text": [
      "<class 'pandas.core.frame.DataFrame'>\n",
      "RangeIndex: 12485 entries, 0 to 12484\n",
      "Data columns (total 27 columns):\n",
      "month                        12485 non-null object\n",
      "state                        12485 non-null object\n",
      "permit                       12461 non-null float64\n",
      "permit_recheck               1100 non-null float64\n",
      "handgun                      12465 non-null float64\n",
      "long_gun                     12466 non-null float64\n",
      "other                        5500 non-null float64\n",
      "multiple                     12485 non-null int64\n",
      "admin                        12462 non-null float64\n",
      "prepawn_handgun              10542 non-null float64\n",
      "prepawn_long_gun             10540 non-null float64\n",
      "prepawn_other                5115 non-null float64\n",
      "redemption_handgun           10545 non-null float64\n",
      "redemption_long_gun          10544 non-null float64\n",
      "redemption_other             5115 non-null float64\n",
      "returned_handgun             2200 non-null float64\n",
      "returned_long_gun            2145 non-null float64\n",
      "returned_other               1815 non-null float64\n",
      "rentals_handgun              990 non-null float64\n",
      "rentals_long_gun             825 non-null float64\n",
      "private_sale_handgun         2750 non-null float64\n",
      "private_sale_long_gun        2750 non-null float64\n",
      "private_sale_other           2750 non-null float64\n",
      "return_to_seller_handgun     2475 non-null float64\n",
      "return_to_seller_long_gun    2750 non-null float64\n",
      "return_to_seller_other       2255 non-null float64\n",
      "totals                       12485 non-null int64\n",
      "dtypes: float64(23), int64(2), object(2)\n",
      "memory usage: 2.6+ MB\n"
     ]
    }
   ],
   "source": [
    "df_gd.info()"
   ]
  },
  {
   "cell_type": "markdown",
   "metadata": {},
   "source": [
    "**Observation:**\n",
    "- The column 'month' has an incorrect datatype (_object_ instead of _datetime64[ns]_)"
   ]
  },
  {
   "cell_type": "markdown",
   "metadata": {},
   "source": [
    "### General Properties of the file: U.S. Census Data.csv\n",
    "\n",
    "Getting a general overview over the data:"
   ]
  },
  {
   "cell_type": "code",
   "execution_count": 40,
   "metadata": {},
   "outputs": [
    {
     "name": "stdout",
     "output_type": "stream",
     "text": [
      "<class 'pandas.core.frame.DataFrame'>\n",
      "RangeIndex: 85 entries, 0 to 84\n",
      "Data columns (total 52 columns):\n",
      "Fact              80 non-null object\n",
      "Fact Note         28 non-null object\n",
      "Alabama           65 non-null object\n",
      "Alaska            65 non-null object\n",
      "Arizona           65 non-null object\n",
      "Arkansas          65 non-null object\n",
      "California        65 non-null object\n",
      "Colorado          65 non-null object\n",
      "Connecticut       65 non-null object\n",
      "Delaware          65 non-null object\n",
      "Florida           65 non-null object\n",
      "Georgia           65 non-null object\n",
      "Hawaii            65 non-null object\n",
      "Idaho             65 non-null object\n",
      "Illinois          65 non-null object\n",
      "Indiana           65 non-null object\n",
      "Iowa              65 non-null object\n",
      "Kansas            65 non-null object\n",
      "Kentucky          65 non-null object\n",
      "Louisiana         65 non-null object\n",
      "Maine             65 non-null object\n",
      "Maryland          65 non-null object\n",
      "Massachusetts     65 non-null object\n",
      "Michigan          65 non-null object\n",
      "Minnesota         65 non-null object\n",
      "Mississippi       65 non-null object\n",
      "Missouri          65 non-null object\n",
      "Montana           65 non-null object\n",
      "Nebraska          65 non-null object\n",
      "Nevada            65 non-null object\n",
      "New Hampshire     65 non-null object\n",
      "New Jersey        65 non-null object\n",
      "New Mexico        65 non-null object\n",
      "New York          65 non-null object\n",
      "North Carolina    65 non-null object\n",
      "North Dakota      65 non-null object\n",
      "Ohio              65 non-null object\n",
      "Oklahoma          65 non-null object\n",
      "Oregon            65 non-null object\n",
      "Pennsylvania      65 non-null object\n",
      "Rhode Island      65 non-null object\n",
      "South Carolina    65 non-null object\n",
      "South Dakota      65 non-null object\n",
      "Tennessee         65 non-null object\n",
      "Texas             65 non-null object\n",
      "Utah              65 non-null object\n",
      "Vermont           65 non-null object\n",
      "Virginia          65 non-null object\n",
      "Washington        65 non-null object\n",
      "West Virginia     65 non-null object\n",
      "Wisconsin         65 non-null object\n",
      "Wyoming           65 non-null object\n",
      "dtypes: object(52)\n",
      "memory usage: 34.6+ KB\n"
     ]
    }
   ],
   "source": [
    "df_c_raw.info()"
   ]
  },
  {
   "cell_type": "markdown",
   "metadata": {},
   "source": [
    "**Observations:**\n",
    "- The column 'Fact Note' can be dropped.\n",
    "- The last 20 rows of the file contain explanations and can be dropped.\n",
    "- The columns and rows are switched (rows contain variables and the columns contain the states)."
   ]
  },
  {
   "cell_type": "markdown",
   "metadata": {},
   "source": [
    "<a id='wrangling_gd'></a>\n",
    "### Data Cleaning (gun_data.xlsx)"
   ]
  },
  {
   "cell_type": "code",
   "execution_count": 41,
   "metadata": {},
   "outputs": [],
   "source": [
    "# change dtype of the column 'month'\n",
    "df_gd['month'] = df_gd['month'].astype('datetime64[ns]')"
   ]
  },
  {
   "cell_type": "markdown",
   "metadata": {},
   "source": [
    "<a id='wrangling_cd'></a>\n",
    "### Data Cleaning (U.S. Census Data.csv)"
   ]
  },
  {
   "cell_type": "code",
   "execution_count": 42,
   "metadata": {},
   "outputs": [],
   "source": [
    "# create dataframe and skip last 20 lines\n",
    "df_c_raw = pd.read_csv('U.S. Census Data.csv', skipfooter=20, header=0, engine='python')"
   ]
  },
  {
   "cell_type": "code",
   "execution_count": 43,
   "metadata": {},
   "outputs": [],
   "source": [
    "# drop 'Fact Note' column\n",
    "df_c_raw = df_c_raw.drop('Fact Note', axis=1)"
   ]
  },
  {
   "cell_type": "code",
   "execution_count": 44,
   "metadata": {},
   "outputs": [],
   "source": [
    "# setting the index to use \"Fact\" as keys\n",
    "df_c_raw.set_index('Fact', inplace=True)"
   ]
  },
  {
   "cell_type": "code",
   "execution_count": 45,
   "metadata": {},
   "outputs": [],
   "source": [
    "# transpose the dataframe for easier handling\n",
    "df_c_raw = df_c_raw.transpose()"
   ]
  },
  {
   "cell_type": "code",
   "execution_count": 46,
   "metadata": {},
   "outputs": [
    {
     "name": "stdout",
     "output_type": "stream",
     "text": [
      "<class 'pandas.core.frame.DataFrame'>\n",
      "Index: 50 entries, Alabama to Wyoming\n",
      "Data columns (total 65 columns):\n",
      "Population estimates, July 1, 2016,  (V2016)                                              50 non-null object\n",
      "Population estimates base, April 1, 2010,  (V2016)                                        50 non-null object\n",
      "Population, percent change - April 1, 2010 (estimates base) to July 1, 2016,  (V2016)     50 non-null object\n",
      "Population, Census, April 1, 2010                                                         50 non-null object\n",
      "Persons under 5 years, percent, July 1, 2016,  (V2016)                                    50 non-null object\n",
      "Persons under 5 years, percent, April 1, 2010                                             50 non-null object\n",
      "Persons under 18 years, percent, July 1, 2016,  (V2016)                                   50 non-null object\n",
      "Persons under 18 years, percent, April 1, 2010                                            50 non-null object\n",
      "Persons 65 years and over, percent,  July 1, 2016,  (V2016)                               50 non-null object\n",
      "Persons 65 years and over, percent, April 1, 2010                                         50 non-null object\n",
      "Female persons, percent,  July 1, 2016,  (V2016)                                          50 non-null object\n",
      "Female persons, percent, April 1, 2010                                                    50 non-null object\n",
      "White alone, percent, July 1, 2016,  (V2016)                                              50 non-null object\n",
      "Black or African American alone, percent, July 1, 2016,  (V2016)                          50 non-null object\n",
      "American Indian and Alaska Native alone, percent, July 1, 2016,  (V2016)                  50 non-null object\n",
      "Asian alone, percent, July 1, 2016,  (V2016)                                              50 non-null object\n",
      "Native Hawaiian and Other Pacific Islander alone, percent, July 1, 2016,  (V2016)         50 non-null object\n",
      "Two or More Races, percent, July 1, 2016,  (V2016)                                        50 non-null object\n",
      "Hispanic or Latino, percent, July 1, 2016,  (V2016)                                       50 non-null object\n",
      "White alone, not Hispanic or Latino, percent, July 1, 2016,  (V2016)                      50 non-null object\n",
      "Veterans, 2011-2015                                                                       50 non-null object\n",
      "Foreign born persons, percent, 2011-2015                                                  50 non-null object\n",
      "Housing units,  July 1, 2016,  (V2016)                                                    50 non-null object\n",
      "Housing units, April 1, 2010                                                              50 non-null object\n",
      "Owner-occupied housing unit rate, 2011-2015                                               50 non-null object\n",
      "Median value of owner-occupied housing units, 2011-2015                                   50 non-null object\n",
      "Median selected monthly owner costs -with a mortgage, 2011-2015                           50 non-null object\n",
      "Median selected monthly owner costs -without a mortgage, 2011-2015                        50 non-null object\n",
      "Median gross rent, 2011-2015                                                              50 non-null object\n",
      "Building permits, 2016                                                                    50 non-null object\n",
      "Households, 2011-2015                                                                     50 non-null object\n",
      "Persons per household, 2011-2015                                                          50 non-null object\n",
      "Living in same house 1 year ago, percent of persons age 1 year+, 2011-2015                50 non-null object\n",
      "Language other than English spoken at home, percent of persons age 5 years+, 2011-2015    50 non-null object\n",
      "High school graduate or higher, percent of persons age 25 years+, 2011-2015               50 non-null object\n",
      "Bachelor's degree or higher, percent of persons age 25 years+, 2011-2015                  50 non-null object\n",
      "With a disability, under age 65 years, percent, 2011-2015                                 50 non-null object\n",
      "Persons  without health insurance, under age 65 years, percent                            50 non-null object\n",
      "In civilian labor force, total, percent of population age 16 years+, 2011-2015            50 non-null object\n",
      "In civilian labor force, female, percent of population age 16 years+, 2011-2015           50 non-null object\n",
      "Total accommodation and food services sales, 2012 ($1,000)                                50 non-null object\n",
      "Total health care and social assistance receipts/revenue, 2012 ($1,000)                   50 non-null object\n",
      "Total manufacturers shipments, 2012 ($1,000)                                              50 non-null object\n",
      "Total merchant wholesaler sales, 2012 ($1,000)                                            50 non-null object\n",
      "Total retail sales, 2012 ($1,000)                                                         50 non-null object\n",
      "Total retail sales per capita, 2012                                                       50 non-null object\n",
      "Mean travel time to work (minutes), workers age 16 years+, 2011-2015                      50 non-null object\n",
      "Median household income (in 2015 dollars), 2011-2015                                      50 non-null object\n",
      "Per capita income in past 12 months (in 2015 dollars), 2011-2015                          50 non-null object\n",
      "Persons in poverty, percent                                                               50 non-null object\n",
      "Total employer establishments, 2015                                                       50 non-null object\n",
      "Total employment, 2015                                                                    50 non-null object\n",
      "Total annual payroll, 2015 ($1,000)                                                       50 non-null object\n",
      "Total employment, percent change, 2014-2015                                               50 non-null object\n",
      "Total nonemployer establishments, 2015                                                    50 non-null object\n",
      "All firms, 2012                                                                           50 non-null object\n",
      "Men-owned firms, 2012                                                                     50 non-null object\n",
      "Women-owned firms, 2012                                                                   50 non-null object\n",
      "Minority-owned firms, 2012                                                                50 non-null object\n",
      "Nonminority-owned firms, 2012                                                             50 non-null object\n",
      "Veteran-owned firms, 2012                                                                 50 non-null object\n",
      "Nonveteran-owned firms, 2012                                                              50 non-null object\n",
      "Population per square mile, 2010                                                          50 non-null object\n",
      "Land area in square miles, 2010                                                           50 non-null object\n",
      "FIPS Code                                                                                 50 non-null object\n",
      "dtypes: object(65)\n",
      "memory usage: 25.8+ KB\n"
     ]
    }
   ],
   "source": [
    "# get info about the new dataframe\n",
    "df_c_raw.info()"
   ]
  },
  {
   "cell_type": "markdown",
   "metadata": {},
   "source": [
    "**I choose to investigate the variables 'Veterans, 2011-2015' and 'Foreign born persons, percent, 2011-2015' further.**"
   ]
  },
  {
   "cell_type": "code",
   "execution_count": 47,
   "metadata": {},
   "outputs": [
    {
     "data": {
      "text/plain": [
       "Alabama             363,170\n",
       "Alaska               69,323\n",
       "Arizona             505,794\n",
       "Arkansas            220,953\n",
       "California        1,777,410\n",
       "Colorado            391,725\n",
       "Connecticut         199,331\n",
       "Delaware             71,213\n",
       "Florida           1,507,738\n",
       "Georgia             670,617\n",
       "Hawaii              110,238\n",
       "Idaho               119,711\n",
       "Illinois            668,933\n",
       "Indiana             426,493\n",
       "Iowa                211,066\n",
       "Kansas              198,396\n",
       "Kentucky            297,312\n",
       "Louisiana           281,989\n",
       "Maine               119,058\n",
       "Maryland            403,900\n",
       "Massachusetts       355,083\n",
       "Michigan            626,722\n",
       "Minnesota           342,388\n",
       "Mississippi         184,774\n",
       "Missouri            451,342\n",
       "Montana              90,000\n",
       "Nebraska            132,918\n",
       "Nevada              220,332\n",
       "New Hampshire       106,827\n",
       "New Jersey          393,277\n",
       "New Mexico           164157\n",
       "New York             828586\n",
       "North Carolina       696119\n",
       "North Dakota          51179\n",
       "Ohio                 806531\n",
       "Oklahoma             295847\n",
       "Oregon               306723\n",
       "Pennsylvania         870770\n",
       "Rhode Island          66076\n",
       "South Carolina       378959\n",
       "South Dakota          63742\n",
       "Tennessee            462414\n",
       "Texas             1,539,655\n",
       "Utah                134,332\n",
       "Vermont              44,708\n",
       "Virginia            706,539\n",
       "Washington          564,864\n",
       "West Virginia       150,021\n",
       "Wisconsin           381,940\n",
       "Wyoming              48,505\n",
       "Name: Veterans, 2011-2015, dtype: object"
      ]
     },
     "execution_count": 47,
     "metadata": {},
     "output_type": "execute_result"
    }
   ],
   "source": [
    "# print out all values\n",
    "df_c_raw['Veterans, 2011-2015']"
   ]
  },
  {
   "cell_type": "markdown",
   "metadata": {},
   "source": [
    "**Observation**: numbers are stored as strings and do not have a consistent format"
   ]
  },
  {
   "cell_type": "code",
   "execution_count": 48,
   "metadata": {},
   "outputs": [],
   "source": [
    "# replacing commas\n",
    "df_c_raw['Veterans, 2011-2015'] = df_c_raw['Veterans, 2011-2015'].str.replace(\",\", \"\")"
   ]
  },
  {
   "cell_type": "code",
   "execution_count": 49,
   "metadata": {},
   "outputs": [],
   "source": [
    "# converting to numeric type\n",
    "df_c_raw['Veterans, 2011-2015'] = pd.to_numeric(df_c_raw['Veterans, 2011-2015'], errors='coerce')"
   ]
  },
  {
   "cell_type": "code",
   "execution_count": 50,
   "metadata": {},
   "outputs": [
    {
     "data": {
      "text/plain": [
       "Alabama            363170\n",
       "Alaska              69323\n",
       "Arizona            505794\n",
       "Arkansas           220953\n",
       "California        1777410\n",
       "Colorado           391725\n",
       "Connecticut        199331\n",
       "Delaware            71213\n",
       "Florida           1507738\n",
       "Georgia            670617\n",
       "Hawaii             110238\n",
       "Idaho              119711\n",
       "Illinois           668933\n",
       "Indiana            426493\n",
       "Iowa               211066\n",
       "Kansas             198396\n",
       "Kentucky           297312\n",
       "Louisiana          281989\n",
       "Maine              119058\n",
       "Maryland           403900\n",
       "Massachusetts      355083\n",
       "Michigan           626722\n",
       "Minnesota          342388\n",
       "Mississippi        184774\n",
       "Missouri           451342\n",
       "Montana             90000\n",
       "Nebraska           132918\n",
       "Nevada             220332\n",
       "New Hampshire      106827\n",
       "New Jersey         393277\n",
       "New Mexico         164157\n",
       "New York           828586\n",
       "North Carolina     696119\n",
       "North Dakota        51179\n",
       "Ohio               806531\n",
       "Oklahoma           295847\n",
       "Oregon             306723\n",
       "Pennsylvania       870770\n",
       "Rhode Island        66076\n",
       "South Carolina     378959\n",
       "South Dakota        63742\n",
       "Tennessee          462414\n",
       "Texas             1539655\n",
       "Utah               134332\n",
       "Vermont             44708\n",
       "Virginia           706539\n",
       "Washington         564864\n",
       "West Virginia      150021\n",
       "Wisconsin          381940\n",
       "Wyoming             48505\n",
       "Name: Veterans, 2011-2015, dtype: int64"
      ]
     },
     "execution_count": 50,
     "metadata": {},
     "output_type": "execute_result"
    }
   ],
   "source": [
    "# check if everything worked\n",
    "df_c_raw['Veterans, 2011-2015']"
   ]
  },
  {
   "cell_type": "code",
   "execution_count": 51,
   "metadata": {},
   "outputs": [
    {
     "data": {
      "text/plain": [
       "20079700"
      ]
     },
     "execution_count": 51,
     "metadata": {},
     "output_type": "execute_result"
    }
   ],
   "source": [
    "# check if everything worked (sum)\n",
    "df_c_raw['Veterans, 2011-2015'].sum()"
   ]
  },
  {
   "cell_type": "markdown",
   "metadata": {},
   "source": [
    "#### Variable 'Foreign born persons, percent, 2011-2015'"
   ]
  },
  {
   "cell_type": "code",
   "execution_count": 52,
   "metadata": {},
   "outputs": [
    {
     "data": {
      "text/plain": [
       "Alabama            3.50%\n",
       "Alaska             7.40%\n",
       "Arizona           13.50%\n",
       "Arkansas           4.70%\n",
       "California        27.00%\n",
       "Colorado           9.80%\n",
       "Connecticut       13.90%\n",
       "Delaware           8.70%\n",
       "Florida           19.70%\n",
       "Georgia            9.80%\n",
       "Hawaii            17.70%\n",
       "Idaho              6.10%\n",
       "Illinois          14.00%\n",
       "Indiana            4.80%\n",
       "Iowa               4.70%\n",
       "Kansas             6.90%\n",
       "Kentucky           3.40%\n",
       "Louisiana          4.00%\n",
       "Maine              3.50%\n",
       "Maryland          14.50%\n",
       "Massachusetts     15.50%\n",
       "Michigan           6.30%\n",
       "Minnesota          7.70%\n",
       "Mississippi        2.30%\n",
       "Missouri           3.90%\n",
       "Montana            2.10%\n",
       "Nebraska           6.60%\n",
       "Nevada            19.20%\n",
       "New Hampshire      5.70%\n",
       "New Jersey        21.70%\n",
       "New Mexico         0.098\n",
       "New York           0.225\n",
       "North Carolina     0.077\n",
       "North Dakota       0.032\n",
       "Ohio               0.041\n",
       "Oklahoma           0.058\n",
       "Oregon             0.099\n",
       "Pennsylvania       0.063\n",
       "Rhode Island       0.133\n",
       "South Carolina     0.048\n",
       "South Dakota        0.03\n",
       "Tennessee          0.048\n",
       "Texas             16.60%\n",
       "Utah               8.40%\n",
       "Vermont            4.30%\n",
       "Virginia          11.70%\n",
       "Washington        13.40%\n",
       "West Virginia      1.50%\n",
       "Wisconsin          4.80%\n",
       "Wyoming            3.60%\n",
       "Name: Foreign born persons, percent, 2011-2015, dtype: object"
      ]
     },
     "execution_count": 52,
     "metadata": {},
     "output_type": "execute_result"
    }
   ],
   "source": [
    "# print out all values\n",
    "df_c_raw['Foreign born persons, percent, 2011-2015']"
   ]
  },
  {
   "cell_type": "markdown",
   "metadata": {},
   "source": [
    "**Observation**: percentages are stored with the sign (%) and without."
   ]
  },
  {
   "cell_type": "code",
   "execution_count": 53,
   "metadata": {},
   "outputs": [],
   "source": [
    "# function to remove '%' and divide by 100\n",
    "def clean_percentage(x):\n",
    "    if '%' in x:\n",
    "        x = x.replace('%', '')\n",
    "        x = float(x) / 100\n",
    "        return x\n",
    "    else:\n",
    "        return float(x)"
   ]
  },
  {
   "cell_type": "code",
   "execution_count": 54,
   "metadata": {},
   "outputs": [],
   "source": [
    "# applying the function\n",
    "df_c_raw['Foreign born persons, percent, 2011-2015'] = df_c_raw['Foreign born persons, percent, 2011-2015'].apply(clean_percentage)"
   ]
  },
  {
   "cell_type": "code",
   "execution_count": 55,
   "metadata": {},
   "outputs": [],
   "source": [
    "# convert to numeric type\n",
    "df_c_raw['Foreign born persons, percent, 2011-2015'] = pd.to_numeric(df_c_raw['Foreign born persons, percent, 2011-2015'], errors='coerce')"
   ]
  },
  {
   "cell_type": "code",
   "execution_count": 56,
   "metadata": {},
   "outputs": [],
   "source": [
    "# resetting the index\n",
    "df_c_raw = df_c_raw.reset_index()   "
   ]
  },
  {
   "cell_type": "code",
   "execution_count": 57,
   "metadata": {},
   "outputs": [
    {
     "data": {
      "text/plain": [
       "0     0.035\n",
       "1     0.074\n",
       "2     0.135\n",
       "3     0.047\n",
       "4     0.270\n",
       "5     0.098\n",
       "6     0.139\n",
       "7     0.087\n",
       "8     0.197\n",
       "9     0.098\n",
       "10    0.177\n",
       "11    0.061\n",
       "12    0.140\n",
       "13    0.048\n",
       "14    0.047\n",
       "15    0.069\n",
       "16    0.034\n",
       "17    0.040\n",
       "18    0.035\n",
       "19    0.145\n",
       "20    0.155\n",
       "21    0.063\n",
       "22    0.077\n",
       "23    0.023\n",
       "24    0.039\n",
       "25    0.021\n",
       "26    0.066\n",
       "27    0.192\n",
       "28    0.057\n",
       "29    0.217\n",
       "30    0.098\n",
       "31    0.225\n",
       "32    0.077\n",
       "33    0.032\n",
       "34    0.041\n",
       "35    0.058\n",
       "36    0.099\n",
       "37    0.063\n",
       "38    0.133\n",
       "39    0.048\n",
       "40    0.030\n",
       "41    0.048\n",
       "42    0.166\n",
       "43    0.084\n",
       "44    0.043\n",
       "45    0.117\n",
       "46    0.134\n",
       "47    0.015\n",
       "48    0.048\n",
       "49    0.036\n",
       "Name: Foreign born persons, percent, 2011-2015, dtype: float64"
      ]
     },
     "execution_count": 57,
     "metadata": {},
     "output_type": "execute_result"
    }
   ],
   "source": [
    "# check if everything worked\n",
    "df_c_raw['Foreign born persons, percent, 2011-2015']"
   ]
  },
  {
   "cell_type": "markdown",
   "metadata": {},
   "source": [
    "### Creating another dataframe with the number of permits from 2011 to 2015"
   ]
  },
  {
   "cell_type": "code",
   "execution_count": 58,
   "metadata": {},
   "outputs": [],
   "source": [
    "# create a dataframe with the number of permits in 2011 to 2015\n",
    "permits = (df_gd[df_gd.month.between(\"2011-01\", \"2015-12\")].groupby(\"state\")[\"permit\"].sum().reset_index())\n",
    "permits.set_index('state', inplace=True)"
   ]
  },
  {
   "cell_type": "code",
   "execution_count": 59,
   "metadata": {},
   "outputs": [],
   "source": [
    "# create a dataframe with specific facts\n",
    "df_t = df_c_raw[['index', 'Veterans, 2011-2015', 'Foreign born persons, percent, 2011-2015']]"
   ]
  },
  {
   "cell_type": "code",
   "execution_count": 60,
   "metadata": {},
   "outputs": [],
   "source": [
    "# add the number of permits between 2011 and 2015\n",
    "df_t = df_t.join(permits['permit'], on='index')\n",
    "df_t['permit'] = df_t['permit'].astype('int64')"
   ]
  },
  {
   "cell_type": "code",
   "execution_count": 61,
   "metadata": {},
   "outputs": [
    {
     "data": {
      "text/plain": [
       "count          50.00\n",
       "mean       678933.52\n",
       "std       1617354.38\n",
       "min             0.00\n",
       "25%         39372.50\n",
       "50%        219499.00\n",
       "75%        621779.00\n",
       "max      10713721.00\n",
       "Name: permit, dtype: object"
      ]
     },
     "execution_count": 61,
     "metadata": {},
     "output_type": "execute_result"
    }
   ],
   "source": [
    "# get statistics for the permits\n",
    "df_t['permit'].describe().apply(lambda x: format(x, '.2f'))"
   ]
  },
  {
   "cell_type": "markdown",
   "metadata": {},
   "source": [
    "<a id='eda'></a>\n",
    "## Exploratory Data Analysis"
   ]
  },
  {
   "cell_type": "markdown",
   "metadata": {},
   "source": [
    "<a id='q1'></a>\n",
    "### Q1: Does the number of veterans per state affect the number of gun purchases?"
   ]
  },
  {
   "cell_type": "code",
   "execution_count": 62,
   "metadata": {},
   "outputs": [
    {
     "data": {
      "image/png": "[encoded data removed]",
      "text/plain": [
       "<matplotlib.figure.Figure at 0x7f686fd99208>"
      ]
     },
     "metadata": {},
     "output_type": "display_data"
    }
   ],
   "source": [
    "# create a histogram to see distribution of number of veterans\n",
    "df_t['Veterans, 2011-2015'].hist(rwidth=0.95, figsize=(15,5))\n",
    "plt.title(\"distribution of Veterans (2011-2015)\")\n",
    "plt.xlabel('amount')\n",
    "plt.ylabel('number of states')\n",
    "plt.xticks(np.arange(0, 2000000, step=200000))\n",
    "plt.yticks(np.arange(0, 26, step=2))\n",
    "plt.grid(False)\n",
    "plt.show()"
   ]
  },
  {
   "cell_type": "code",
   "execution_count": 63,
   "metadata": {},
   "outputs": [
    {
     "data": {
      "text/plain": [
       "count         50.00\n",
       "mean      401594.00\n",
       "std       383158.52\n",
       "min        44708.00\n",
       "25%       133271.50\n",
       "50%       302017.50\n",
       "75%       494949.00\n",
       "max      1777410.00\n",
       "Name: Veterans, 2011-2015, dtype: object"
      ]
     },
     "execution_count": 63,
     "metadata": {},
     "output_type": "execute_result"
    }
   ],
   "source": [
    "# get statistics for the number of veterans\n",
    "df_c_raw['Veterans, 2011-2015'].describe().apply(lambda x: format(x, '.2f'))"
   ]
  },
  {
   "cell_type": "markdown",
   "metadata": {},
   "source": [
    "**Observations:** \n",
    "- The number of veterans was not equally distributed over the states of the U.S. \n",
    "- There are some states (3) which each had more than 1,4 million veterans in 2011 to 2015. They made up for roughly one-fifth of all veterans in 2011-2015 (total was 20,079,700))\n",
    "- More than half of the states had less than 400,000 veterans in 2011 to 2015."
   ]
  },
  {
   "cell_type": "code",
   "execution_count": 64,
   "metadata": {},
   "outputs": [
    {
     "data": {
      "image/png": "[encoded data removed]",
      "text/plain": [
       "<matplotlib.figure.Figure at 0x7f686ff08588>"
      ]
     },
     "metadata": {},
     "output_type": "display_data"
    }
   ],
   "source": [
    "# create a scatter plot\n",
    "df_t.plot(x='Veterans, 2011-2015', y='permit', kind='scatter', figsize=(15,5))\n",
    "plt.title(\"gun permits in relation to number of Veterans\")\n",
    "plt.xlabel('number of veterans')\n",
    "plt.ylabel('number of gun permits')\n",
    "plt.ticklabel_format(style='plain')\n",
    "plt.show()"
   ]
  },
  {
   "cell_type": "markdown",
   "metadata": {},
   "source": [
    "**Observation:** a higher number of veterans is not associated with a higher number of gun permits."
   ]
  },
  {
   "cell_type": "markdown",
   "metadata": {},
   "source": [
    "<a id='q2'></a>\n",
    "### Q2: Does the number of foreign born persons per state affect the number of gun purchases?"
   ]
  },
  {
   "cell_type": "code",
   "execution_count": 65,
   "metadata": {},
   "outputs": [
    {
     "data": {
      "image/png": "[encoded data removed]",
      "text/plain": [
       "<matplotlib.figure.Figure at 0x7f686f969240>"
      ]
     },
     "metadata": {},
     "output_type": "display_data"
    }
   ],
   "source": [
    "# create a histogram to see distribution of number of foreign born persons\n",
    "df_t['Foreign born persons, percent, 2011-2015'].hist(rwidth=0.95, figsize=(15,5))\n",
    "plt.title(\"distribution of foreign born persons (2011-2015)\")\n",
    "plt.xlabel('percentage')\n",
    "plt.ylabel('number of states')\n",
    "plt.yticks(np.arange(0, 15, step=2))\n",
    "plt.grid(False)\n",
    "plt.show()"
   ]
  },
  {
   "cell_type": "code",
   "execution_count": 66,
   "metadata": {},
   "outputs": [
    {
     "data": {
      "text/plain": [
       "count    50.000\n",
       "mean      0.090\n",
       "std       0.061\n",
       "min       0.015\n",
       "25%       0.044\n",
       "50%       0.068\n",
       "75%       0.134\n",
       "max       0.270\n",
       "Name: Foreign born persons, percent, 2011-2015, dtype: object"
      ]
     },
     "execution_count": 66,
     "metadata": {},
     "output_type": "execute_result"
    }
   ],
   "source": [
    "# get statistics for foreign born persons\n",
    "df_c_raw['Foreign born persons, percent, 2011-2015'].describe().apply(lambda x: format(x, '.3f'))"
   ]
  },
  {
   "cell_type": "markdown",
   "metadata": {},
   "source": [
    "**Observations:** \n",
    "- In more than half of the states was the percentage of foreign born persons below the mean for the whole country.\n",
    "- The remaining states therefore had a relatively high percentage with some having more than twice the average."
   ]
  },
  {
   "cell_type": "code",
   "execution_count": 67,
   "metadata": {
    "scrolled": false
   },
   "outputs": [
    {
     "data": {
      "image/png": "[encoded data removed]",
      "text/plain": [
       "<matplotlib.figure.Figure at 0x7f686fa74e80>"
      ]
     },
     "metadata": {},
     "output_type": "display_data"
    }
   ],
   "source": [
    "# create a scatter plot\n",
    "df_t.plot(x='Foreign born persons, percent, 2011-2015', y='permit', kind='scatter', figsize=(15,5))\n",
    "plt.title(\"gun permits in relation to percentage of foreign born persons\")\n",
    "plt.xlabel('foreign born persons (percent)')\n",
    "plt.ylabel('number of gun permits')\n",
    "plt.ticklabel_format(style='plain')\n",
    "plt.show()"
   ]
  },
  {
   "cell_type": "markdown",
   "metadata": {},
   "source": [
    "**Observations:** \n",
    "- A high percentage of foreign born persons is not associated with a higher number of gun permits.\n",
    "- There seems to be an invisible \"barrier\" at 2 million permits with the most states having less than 1 million permits. "
   ]
  },
  {
   "cell_type": "markdown",
   "metadata": {},
   "source": [
    "<a id='q3'></a>\n",
    "### Q3: What is the overall trend of gun purchases?"
   ]
  },
  {
   "cell_type": "code",
   "execution_count": 68,
   "metadata": {},
   "outputs": [],
   "source": [
    "# preparing the dataframe\n",
    "\n",
    "# setting the index to 'month'\n",
    "df_gd.index = df_gd.month"
   ]
  },
  {
   "cell_type": "code",
   "execution_count": 69,
   "metadata": {},
   "outputs": [],
   "source": [
    "# group by state\n",
    "# using resample to calculate sums per year\n",
    "# turning the series into a dataframe\n",
    "# source: https://stackoverflow.com/questions/32012012/pandas-resample-timeseries-with-groupby\n",
    "df_sum = df_gd.groupby('state').resample('A').sum()"
   ]
  },
  {
   "cell_type": "code",
   "execution_count": 70,
   "metadata": {},
   "outputs": [],
   "source": [
    "# create another dataframe for overall sum and visualization\n",
    "df_sum_m = df_sum.groupby('month').sum()"
   ]
  },
  {
   "cell_type": "code",
   "execution_count": 71,
   "metadata": {},
   "outputs": [
    {
     "data": {
      "image/png": "[encoded data removed]",
      "text/plain": [
       "<matplotlib.figure.Figure at 0x7f686fa7d278>"
      ]
     },
     "metadata": {},
     "output_type": "display_data"
    }
   ],
   "source": [
    "# keeping the ticklabel_format as in the dataframe\n",
    "plt.ticklabel_format(style='plain')\n",
    "\n",
    "# group by month and calculate sum to see the overall development\n",
    "df_sum_m['permit'].plot(label='permits')\n",
    "df_sum_m['handgun'].plot(label='handgun checks', figsize=(15,5))\n",
    "#df_sum_m['multiple'].plot(secondary_y=True, figsize=(15,5))\n",
    "plt.xlabel('year')\n",
    "plt.ylabel('amount (permits / handgun checks)')\n",
    "plt.title(\"development of gun permits over the years\")\n",
    "plt.legend(loc='best')\n",
    "plt.show()\n",
    "\n"
   ]
  },
  {
   "cell_type": "markdown",
   "metadata": {},
   "source": [
    "**Observations:** \n",
    "- The number of permits increased over the years beginning in 2005.\n",
    "- The numer of handgun related checks started to increase at the same time. There is a slight drop in 2014.\n",
    "- Both variables are decreasing after 2016."
   ]
  },
  {
   "cell_type": "markdown",
   "metadata": {},
   "source": [
    "<a id='conclusions'></a>\n",
    "## Conclusions\n",
    "\n",
    "### Does the number of veterans per state affect the number of gun purchases?\n",
    "\n",
    "The scatter plot shows that the amount of veterans in a state does not have an effect on the number of gun permits. You cannot state that a high/low number of veterans lead to a high/low number of gun permits.\n",
    "\n",
    "### Does the number of foreign born persons per state affect the number of gun purchases?\n",
    "\n",
    "The same observations applies for the variable \"foreign born persons\": there seems to be no connection between a high/low percentage of these individuals with the number of gun permits.\n",
    "\n",
    "### What is the overall trend of gun purchases?\n",
    "\n",
    "The overall trend of gun purchases (permits to be precise) shows a steady increase beginning in 2005. The maximum is reached in 2016 with over 11 million permits. There is a noticable drop in 2017 where the number of permits is on the same level as in 2014.\n",
    "\n",
    "### Limitations of the analysis\n",
    "\n",
    "The limitations to this analysis are to be found in the quality of the data itself. The GitHub repo states that data for California has been removed because it was inconsistent. Additionally there are Nulls to be found which cannot be accounted for. One could interpret them for example as \"zero checks\" or \"zero permits\" but they could also be missing for a number of reasons. A torough interpretation is furthermore not easy to perform because there are no explanations for the individual aspects. \n"
   ]
  },
  {
   "cell_type": "code",
   "execution_count": 72,
   "metadata": {},
   "outputs": [
    {
     "data": {
      "text/plain": [
       "0"
      ]
     },
     "execution_count": 72,
     "metadata": {},
     "output_type": "execute_result"
    }
   ],
   "source": [
    "from subprocess import call\n",
    "call(['python', '-m', 'nbconvert', 'Investigate_a_Dataset.ipynb'])"
   ]
  }
 ],
 "metadata": {
  "kernelspec": {
   "display_name": "Python 3",
   "language": "python",
   "name": "python3"
  },
  "language_info": {
   "codemirror_mode": {
    "name": "ipython",
    "version": 3
   },
   "file_extension": ".py",
   "mimetype": "text/x-python",
   "name": "python",
   "nbconvert_exporter": "python",
   "pygments_lexer": "ipython3",
   "version": "3.6.3"
  }
 },
 "nbformat": 4,
 "nbformat_minor": 2
}
